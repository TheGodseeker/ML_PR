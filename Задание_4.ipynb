{
  "cells": [
    {
      "cell_type": "markdown",
      "metadata": {
        "id": "view-in-github",
        "colab_type": "text"
      },
      "source": [
        "<a href=\"https://colab.research.google.com/github/TheGodseeker/ML_PR/blob/main/%D0%97%D0%B0%D0%B4%D0%B0%D0%BD%D0%B8%D0%B5_4.ipynb\" target=\"_parent\"><img src=\"https://colab.research.google.com/assets/colab-badge.svg\" alt=\"Open In Colab\"/></a>"
      ]
    },
    {
      "cell_type": "markdown",
      "metadata": {
        "id": "R9Z5OOJV6d0w"
      },
      "source": [
        "#Методы кластеризации и оценка качества кластеризации"
      ]
    },
    {
      "cell_type": "markdown",
      "metadata": {
        "id": "cii8v-1l6fyV"
      },
      "source": [
        "Загрузите набор данных из файла cluster datasets в соответствии с вашим вариантом (если считаете, что набор данных не представляет необходимой информации или сложен для интерперетации или, то можно выбрать другой - но **необходимо предварительное согласование**)."
      ]
    },
    {
      "cell_type": "code",
      "execution_count": null,
      "metadata": {
        "colab": {
          "base_uri": "https://localhost:8080/"
        },
        "id": "T1dV5-wj6zEu",
        "outputId": "220884a4-db49-4108-ef85-ac5f01f24ea9"
      },
      "outputs": [
        {
          "data": {
            "text/plain": [
              "Index(['work_year', 'experience_level', 'employment_type', 'job_title',\n",
              "       'salary', 'salary_currency', 'salary_in_usd', 'employee_residence',\n",
              "       'remote_ratio', 'company_location', 'company_size'],\n",
              "      dtype='object')"
            ]
          },
          "execution_count": 66,
          "metadata": {},
          "output_type": "execute_result"
        }
      ],
      "source": [
        "import numpy as np\n",
        "import pandas as pd\n",
        "import matplotlib.pyplot as plt\n",
        "from sklearn.cluster import KMeans\n",
        "\n",
        "from statistics import median, mean, stdev\n",
        "from math import erfc\n",
        "from sklearn.cluster import DBSCAN\n",
        "# раздробить жанры\n",
        "df = pd.read_csv(\"/home/tengu/Загрузки/ds_salaries.csv\")\n",
        "df.columns"
      ]
    },
    {
      "cell_type": "markdown",
      "metadata": {
        "id": "0RiXq6go9DFf"
      },
      "source": [
        "Используйте представленные в практике методы кластеризации (помните, что кластеры строятся по классам).\n",
        "\n",
        "Несколько правил перед выполнением задания:\n",
        "0. Внимательно изучить практику 4!\n",
        "1. Служебные комментарии читать внимательно и не удалять\n",
        "2. Выполнить до 10-11-2023 (но не затягивать, таск не простой!)\n",
        "\n",
        "\n",
        "P.S. Мгномерные данные - данные, в которых количество колонок > 3\n",
        "\n",
        "P.S.S. Служебные комментарии - ячейки с описанием задачи в \"\"\" task description \"\"\"\n",
        "\n"
      ]
    },
    {
      "cell_type": "code",
      "execution_count": null,
      "metadata": {
        "id": "l9GYic1SCFV6"
      },
      "outputs": [],
      "source": [
        "\"\"\"\n",
        "Предварительно - оптимизируйте ваш набор данных.\n",
        "1. Удалить лишние колонки (порядковые признаки, с множеством пропусков, с кучей выбросов, ....)\n",
        "2. Обработайте выбросы и пропуски (Для удобства - ваш коллега сделал библиотеку в pypi для анализа выбросов - подробности уточняйте в группе)\n",
        "3. Скопируйте df в df_cluster # df_cluster = df.copy()\n",
        "далее вы работаете с ним\n",
        "4. Выполните масштабирование числовых признаков StandatdScaler || MinMaxScaler, в df_cluser замените числовые признаки на отмасштабированные\n",
        "5. Для кагегориальных значений используйте LabelEncoder - https://scikit-learn.org/stable/modules/generated/sklearn.preprocessing.LabelEncoder.html. В df_cluster замените на encoded признаки\n",
        "\"\"\""
      ]
    },
    {
      "cell_type": "code",
      "execution_count": null,
      "metadata": {
        "id": "kU-u5CltPbJ-"
      },
      "outputs": [],
      "source": [
        "\n",
        "#Класс для чистки\n",
        "class Burst:\n",
        "  def __init__(self, df):\n",
        "    self.df = df\n",
        "\n",
        "  #Выбросы по средней\n",
        "  def bursts_by_mean(self, column_name):\n",
        "    mean_data = mean(self.df[column_name])\n",
        "    maximum = mean_data * 2\n",
        "    result = []\n",
        "    col_series = self.df[column_name] # [(index, value), (index, value)]\n",
        "    cur_series_size = 0\n",
        "\n",
        "    for index, value in col_series.items():\n",
        "      if abs(value) - mean_data > maximum:\n",
        "        result.append(index)\n",
        "\n",
        "    return result\n",
        "\n",
        "  #Выбросы по критерию Шовене\n",
        "  def burst_by_shovene(self, column_name):\n",
        "    col_series = self.df[column_name]\n",
        "    cur_series_size = 0\n",
        "    result = []\n",
        "    my_mean = mean(self.df[column_name])\n",
        "    my_stdev = stdev(self.df[column_name])\n",
        "\n",
        "    for index, value in col_series.items():\n",
        "      if (my_stdev > 0) and erfc(abs(value-my_mean)/my_stdev) < 1 / (2*col_series.size):\n",
        "          result.append(index)\n",
        "\n",
        "    return result\n",
        "  #Выбросы по квартилям\n",
        "  def burst_by_quart(self, column_name):\n",
        "    col_series = self.df[column_name]\n",
        "    cur_series_size = 0\n",
        "    result = []\n",
        "    qs = col_series.quantile([0.25,0.5,0.75])\n",
        "\n",
        "    for index, value in col_series.items():\n",
        "      if (value > qs[0.75]) or (value < qs[0.25]):\n",
        "        result.append(index)\n",
        "\n",
        "    return result\n",
        "\n",
        "  #Выбросы по двум переменным #нужно оганизовать поиск по нескольким СТОЛБЦАМ\n",
        "  def burst_by_num(self, fst, scd):\n",
        "    trg = self.df.loc[:, [fst, scd]].values\n",
        "    # x = self.df.loc[fst]\n",
        "    # y = self.df.loc[scd]\n",
        "\n",
        "    dbscan = DBSCAN(eps = 8, min_samples = 4).fit(trg) # fitting the model\n",
        "    labels = dbscan.labels_ # getting the labels\n",
        "\n",
        "    # plt.scatter(x[:, 0], x[:,1], c = labels, cmap= \"plasma\") # plotting the clusters\n",
        "    # plt.xlabel(fst) # X-axis label\n",
        "    # plt.ylabel(scd) # Y-axis label\n",
        "    # plt.show()\n"
      ]
    },
    {
      "cell_type": "code",
      "execution_count": null,
      "metadata": {
        "id": "emwADdn1RhuN"
      },
      "outputs": [],
      "source": [
        "#Убираем лишние столбцы\n",
        "#df = df.drop(\"anime_id\", axis=1)\n",
        "#df = df.drop(\"episodes\", axis=1)\n",
        "\n",
        "df = df.drop(['job_title'], axis=1)\n",
        "\n",
        "for i in df.columns:\n",
        "  if df[i].isnull().sum() > (df.size / 3):\n",
        "    df = df.drop(i, axis=1)\n"
      ]
    },
    {
      "cell_type": "code",
      "execution_count": null,
      "metadata": {
        "id": "qIq0EgRxyUy9"
      },
      "outputs": [],
      "source": [
        "#Удаляем пустоты и выбросы\n",
        "df = df.dropna()\n",
        "\n",
        "sel_col = ['salary', 'salary_in_usd','remote_ratio']\n",
        "burster = Burst(df)\n",
        "for i in sel_col:\n",
        "  if i in df.columns:\n",
        "    df.drop(burster.burst_by_quart(i))"
      ]
    },
    {
      "cell_type": "code",
      "execution_count": null,
      "metadata": {
        "id": "YaJu8X2e1C8h"
      },
      "outputs": [],
      "source": [
        "#Копируем данные\n",
        "df_cluster = df.copy()"
      ]
    },
    {
      "cell_type": "code",
      "execution_count": null,
      "metadata": {
        "id": "cGK7A9ht1JsT"
      },
      "outputs": [],
      "source": [
        "#Масштабируем\n",
        "\n",
        "num_features = df_cluster.select_dtypes(include=['float64','int64']).columns\n",
        "\n",
        "from sklearn.preprocessing import StandardScaler\n",
        "# Standard масштабирование\n",
        "scaler_std = StandardScaler()\n",
        "df_cluster[num_features] = scaler_std.fit_transform(df_cluster[num_features])\n",
        "# df_std_scaled.Score.unique() # преобразованные уникальные значения в числовом призанке в диапозоне [0, 1]\n"
      ]
    },
    {
      "cell_type": "code",
      "execution_count": null,
      "metadata": {
        "id": "6hmHlvKc4wOG",
        "outputId": "bc4c00f1-7270-4490-fd0d-3ebfa3961bc0"
      },
      "outputs": [
        {
          "data": {
            "text/html": [
              "<div>\n",
              "<style scoped>\n",
              "    .dataframe tbody tr th:only-of-type {\n",
              "        vertical-align: middle;\n",
              "    }\n",
              "\n",
              "    .dataframe tbody tr th {\n",
              "        vertical-align: top;\n",
              "    }\n",
              "\n",
              "    .dataframe thead th {\n",
              "        text-align: right;\n",
              "    }\n",
              "</style>\n",
              "<table border=\"1\" class=\"dataframe\">\n",
              "  <thead>\n",
              "    <tr style=\"text-align: right;\">\n",
              "      <th></th>\n",
              "      <th>work_year</th>\n",
              "      <th>experience_level</th>\n",
              "      <th>employment_type</th>\n",
              "      <th>salary</th>\n",
              "      <th>salary_currency</th>\n",
              "      <th>salary_in_usd</th>\n",
              "      <th>employee_residence</th>\n",
              "      <th>remote_ratio</th>\n",
              "      <th>company_location</th>\n",
              "      <th>company_size</th>\n",
              "    </tr>\n",
              "  </thead>\n",
              "  <tbody>\n",
              "    <tr>\n",
              "      <th>0</th>\n",
              "      <td>3</td>\n",
              "      <td>3</td>\n",
              "      <td>2</td>\n",
              "      <td>-0.164827</td>\n",
              "      <td>7</td>\n",
              "      <td>-0.820391</td>\n",
              "      <td>26</td>\n",
              "      <td>1.105918</td>\n",
              "      <td>25</td>\n",
              "      <td>0</td>\n",
              "    </tr>\n",
              "    <tr>\n",
              "      <th>1</th>\n",
              "      <td>3</td>\n",
              "      <td>2</td>\n",
              "      <td>0</td>\n",
              "      <td>-0.239277</td>\n",
              "      <td>19</td>\n",
              "      <td>-1.706187</td>\n",
              "      <td>75</td>\n",
              "      <td>1.105918</td>\n",
              "      <td>70</td>\n",
              "      <td>2</td>\n",
              "    </tr>\n",
              "    <tr>\n",
              "      <th>2</th>\n",
              "      <td>3</td>\n",
              "      <td>2</td>\n",
              "      <td>0</td>\n",
              "      <td>-0.245978</td>\n",
              "      <td>19</td>\n",
              "      <td>-1.777563</td>\n",
              "      <td>75</td>\n",
              "      <td>1.105918</td>\n",
              "      <td>70</td>\n",
              "      <td>2</td>\n",
              "    </tr>\n",
              "    <tr>\n",
              "      <th>3</th>\n",
              "      <td>3</td>\n",
              "      <td>3</td>\n",
              "      <td>2</td>\n",
              "      <td>-0.023371</td>\n",
              "      <td>19</td>\n",
              "      <td>0.593676</td>\n",
              "      <td>11</td>\n",
              "      <td>1.105918</td>\n",
              "      <td>12</td>\n",
              "      <td>1</td>\n",
              "    </tr>\n",
              "    <tr>\n",
              "      <th>4</th>\n",
              "      <td>3</td>\n",
              "      <td>3</td>\n",
              "      <td>2</td>\n",
              "      <td>-0.105266</td>\n",
              "      <td>19</td>\n",
              "      <td>-0.278686</td>\n",
              "      <td>11</td>\n",
              "      <td>1.105918</td>\n",
              "      <td>12</td>\n",
              "      <td>1</td>\n",
              "    </tr>\n",
              "    <tr>\n",
              "      <th>...</th>\n",
              "      <td>...</td>\n",
              "      <td>...</td>\n",
              "      <td>...</td>\n",
              "      <td>...</td>\n",
              "      <td>...</td>\n",
              "      <td>...</td>\n",
              "      <td>...</td>\n",
              "      <td>...</td>\n",
              "      <td>...</td>\n",
              "      <td>...</td>\n",
              "    </tr>\n",
              "    <tr>\n",
              "      <th>3750</th>\n",
              "      <td>0</td>\n",
              "      <td>3</td>\n",
              "      <td>2</td>\n",
              "      <td>0.329525</td>\n",
              "      <td>19</td>\n",
              "      <td>4.352762</td>\n",
              "      <td>75</td>\n",
              "      <td>1.105918</td>\n",
              "      <td>70</td>\n",
              "      <td>0</td>\n",
              "    </tr>\n",
              "    <tr>\n",
              "      <th>3751</th>\n",
              "      <td>1</td>\n",
              "      <td>2</td>\n",
              "      <td>2</td>\n",
              "      <td>-0.059107</td>\n",
              "      <td>19</td>\n",
              "      <td>0.213009</td>\n",
              "      <td>75</td>\n",
              "      <td>1.105918</td>\n",
              "      <td>70</td>\n",
              "      <td>0</td>\n",
              "    </tr>\n",
              "    <tr>\n",
              "      <th>3752</th>\n",
              "      <td>0</td>\n",
              "      <td>0</td>\n",
              "      <td>2</td>\n",
              "      <td>-0.127602</td>\n",
              "      <td>19</td>\n",
              "      <td>-0.516603</td>\n",
              "      <td>75</td>\n",
              "      <td>1.105918</td>\n",
              "      <td>70</td>\n",
              "      <td>2</td>\n",
              "    </tr>\n",
              "    <tr>\n",
              "      <th>3753</th>\n",
              "      <td>0</td>\n",
              "      <td>0</td>\n",
              "      <td>0</td>\n",
              "      <td>-0.135047</td>\n",
              "      <td>19</td>\n",
              "      <td>-0.595909</td>\n",
              "      <td>75</td>\n",
              "      <td>1.105918</td>\n",
              "      <td>70</td>\n",
              "      <td>0</td>\n",
              "    </tr>\n",
              "    <tr>\n",
              "      <th>3754</th>\n",
              "      <td>1</td>\n",
              "      <td>3</td>\n",
              "      <td>2</td>\n",
              "      <td>10.139124</td>\n",
              "      <td>12</td>\n",
              "      <td>-0.680528</td>\n",
              "      <td>39</td>\n",
              "      <td>0.076743</td>\n",
              "      <td>38</td>\n",
              "      <td>0</td>\n",
              "    </tr>\n",
              "  </tbody>\n",
              "</table>\n",
              "<p>3755 rows × 10 columns</p>\n",
              "</div>"
            ],
            "text/plain": [
              "      work_year  experience_level  employment_type     salary  \\\n",
              "0             3                 3                2  -0.164827   \n",
              "1             3                 2                0  -0.239277   \n",
              "2             3                 2                0  -0.245978   \n",
              "3             3                 3                2  -0.023371   \n",
              "4             3                 3                2  -0.105266   \n",
              "...         ...               ...              ...        ...   \n",
              "3750          0                 3                2   0.329525   \n",
              "3751          1                 2                2  -0.059107   \n",
              "3752          0                 0                2  -0.127602   \n",
              "3753          0                 0                0  -0.135047   \n",
              "3754          1                 3                2  10.139124   \n",
              "\n",
              "      salary_currency  salary_in_usd  employee_residence  remote_ratio  \\\n",
              "0                   7      -0.820391                  26      1.105918   \n",
              "1                  19      -1.706187                  75      1.105918   \n",
              "2                  19      -1.777563                  75      1.105918   \n",
              "3                  19       0.593676                  11      1.105918   \n",
              "4                  19      -0.278686                  11      1.105918   \n",
              "...               ...            ...                 ...           ...   \n",
              "3750               19       4.352762                  75      1.105918   \n",
              "3751               19       0.213009                  75      1.105918   \n",
              "3752               19      -0.516603                  75      1.105918   \n",
              "3753               19      -0.595909                  75      1.105918   \n",
              "3754               12      -0.680528                  39      0.076743   \n",
              "\n",
              "      company_location  company_size  \n",
              "0                   25             0  \n",
              "1                   70             2  \n",
              "2                   70             2  \n",
              "3                   12             1  \n",
              "4                   12             1  \n",
              "...                ...           ...  \n",
              "3750                70             0  \n",
              "3751                70             0  \n",
              "3752                70             2  \n",
              "3753                70             0  \n",
              "3754                38             0  \n",
              "\n",
              "[3755 rows x 10 columns]"
            ]
          },
          "execution_count": 79,
          "metadata": {},
          "output_type": "execute_result"
        }
      ],
      "source": [
        "#Манипуляции  с кат. значениями\n",
        "\n",
        "from sklearn.preprocessing import LabelEncoder\n",
        "\n",
        "sel_col = ['work_year', 'experience_level', 'employment_type', 'salary_currency', 'employee_residence',\n",
        "       'company_location', 'company_size']\n",
        "\n",
        "for i in sel_col:\n",
        "  cur_le = LabelEncoder()\n",
        "  cur_le.fit(df_cluster[i].unique())\n",
        "  df_cluster[i] = cur_le.transform(df_cluster[i].values)\n",
        "\n",
        "df_cluster"
      ]
    },
    {
      "cell_type": "code",
      "execution_count": null,
      "metadata": {
        "id": "mURhmgww9rrQ"
      },
      "outputs": [],
      "source": [
        "\"\"\"\n",
        "Здесь k-means и метрики. Используйте несколько вариантов метрик (из практики), для поиска оптимального числа кластеров.\n",
        "\"\"\""
      ]
    },
    {
      "cell_type": "code",
      "execution_count": null,
      "metadata": {
        "colab": {
          "base_uri": "https://localhost:8080/"
        },
        "id": "-O77d8oxPdKX",
        "outputId": "16114d8d-8bb0-429f-aa80-4eebdcc1abca"
      },
      "outputs": [
        {
          "name": "stderr",
          "output_type": "stream",
          "text": [
            "/home/tengu/miniconda3/envs/ml/lib/python3.11/site-packages/sklearn/cluster/_kmeans.py:1416: FutureWarning: The default value of `n_init` will change from 10 to 'auto' in 1.4. Set the value of `n_init` explicitly to suppress the warning\n",
            "  super()._check_params_vs_input(X, default_n_init=10)\n"
          ]
        }
      ],
      "source": [
        "# Создаем экземпляр модели K-Means\n",
        "X = df_cluster [[\"experience_level\", \"salary_in_usd\"]]\n",
        "\n",
        "kmeans = KMeans(n_clusters=8)\n",
        "\n",
        "# Производим кластеризацию данных\n",
        "kmeans.fit(X)\n",
        "\n",
        "# Получаем центры кластеров и прогнозируем принадлежность к кластерам\n",
        "cluster_centers = kmeans.cluster_centers_\n",
        "cluster_labels = kmeans.labels_\n"
      ]
    },
    {
      "cell_type": "code",
      "execution_count": null,
      "metadata": {
        "colab": {
          "base_uri": "https://localhost:8080/"
        },
        "id": "qbmCD4V4RiKW",
        "outputId": "3694d124-38f8-45ab-ae71-bf267dcc1706"
      },
      "outputs": [
        {
          "name": "stderr",
          "output_type": "stream",
          "text": [
            "/home/tengu/miniconda3/envs/ml/lib/python3.11/site-packages/sklearn/cluster/_kmeans.py:1416: FutureWarning: The default value of `n_init` will change from 10 to 'auto' in 1.4. Set the value of `n_init` explicitly to suppress the warning\n",
            "  super()._check_params_vs_input(X, default_n_init=10)\n"
          ]
        }
      ],
      "source": [
        "kmeans_2 = KMeans(n_clusters=16)\n",
        "\n",
        "# Производим кластеризацию данных\n",
        "kmeans_2.fit(X)\n",
        "\n",
        "# Получаем центры кластеров и прогнозируем принадлежность к кластерам\n",
        "cluster_centers_2 = kmeans_2.cluster_centers_\n",
        "cluster_labels_2 = kmeans_2.labels_\n"
      ]
    },
    {
      "cell_type": "code",
      "execution_count": null,
      "metadata": {
        "id": "aIOA-AjO9638"
      },
      "outputs": [],
      "source": [
        "\"\"\"\n",
        "Здесь визуализация кластеров k-means\n",
        "(Для многомерных данных используйте сжатие методами (на выбор один из) PCA/t-TSNE/umap до 2,3 точек - влияет на вид гарфика, если 2 точки - то двумерный, если три точки - то трехмерный)\n",
        "\"\"\""
      ]
    },
    {
      "cell_type": "code",
      "execution_count": null,
      "metadata": {
        "colab": {
          "base_uri": "https://localhost:8080/",
          "height": 472
        },
        "id": "1qiEimlgPd1F",
        "outputId": "377f7094-5423-4ff9-ed1b-4722ec1b7d7d"
      },
      "outputs": [
        {
          "data": {
            "image/png": "[encoded data removed]",
            "text/plain": [
              "<Figure size 500x300 with 1 Axes>"
            ]
          },
          "metadata": {},
          "output_type": "display_data"
        }
      ],
      "source": [
        "# Визуализируем результаты кластеризации двумерной кластеризации\n",
        "plt.scatter(df_cluster[\"experience_level\"], df_cluster[\"salary_in_usd\"], c=cluster_labels, s=50, cmap='viridis')\n",
        "plt.scatter(cluster_centers[:, 0], cluster_centers[:, 1], c='red', s=200, marker='X')\n",
        "plt.xlabel(\"experience_level\")\n",
        "plt.ylabel(\"salary_in_usd\")\n",
        "plt.title('Результаты кластеризации K-Means (1)')\n",
        "plt.show()"
      ]
    },
    {
      "cell_type": "code",
      "execution_count": null,
      "metadata": {
        "colab": {
          "base_uri": "https://localhost:8080/",
          "height": 472
        },
        "id": "MkQ6Fr63Rie7",
        "outputId": "518e7721-2273-4947-d141-4d82e586bd4d"
      },
      "outputs": [
        {
          "data": {
            "image/png": "[encoded data removed]",
            "text/plain": [
              "<Figure size 500x300 with 1 Axes>"
            ]
          },
          "metadata": {},
          "output_type": "display_data"
        }
      ],
      "source": [
        "# Визуализируем результаты кластеризации\n",
        "plt.scatter(df_cluster[\"experience_level\"], df_cluster[\"salary_in_usd\"], c=cluster_labels_2, s=50, cmap='viridis')\n",
        "plt.scatter(cluster_centers_2[:, 0], cluster_centers_2[:, 1], c='red', s=200, marker='X')\n",
        "plt.xlabel(\"experience_level\")\n",
        "plt.ylabel(\"salary_in_usd\")\n",
        "plt.title('Результаты кластеризации K-Means (2)')\n",
        "plt.show()"
      ]
    },
    {
      "cell_type": "code",
      "execution_count": null,
      "metadata": {
        "colab": {
          "base_uri": "https://localhost:8080/",
          "height": 466
        },
        "id": "Ipl9dXxYENYP",
        "outputId": "1440e47d-0fcc-4011-f7ea-2847da847f10"
      },
      "outputs": [
        {
          "name": "stdout",
          "output_type": "stream",
          "text": [
            "Оптимальное число кластеров 2, с баллом 0.8396551796866304\n"
          ]
        },
        {
          "data": {
            "image/png": "[encoded data removed]",
            "text/plain": [
              "<Figure size 640x480 with 1 Axes>"
            ]
          },
          "metadata": {},
          "output_type": "display_data"
        }
      ],
      "source": [
        "# silhouette score на 16\n",
        "\n",
        "from sklearn.metrics import silhouette_score\n",
        "\n",
        "# Нормализация данных\n",
        "scaler = StandardScaler()\n",
        "X_scaled = scaler.fit_transform(X)\n",
        "\n",
        "# Поиск оптимального K\n",
        "scores = []\n",
        "for k in range(2, 11):\n",
        "    kmeans = KMeans(n_clusters=k, n_init=16, random_state=42)\n",
        "    kmeans.fit(X_scaled)\n",
        "    score = silhouette_score(X_scaled, kmeans.labels_)\n",
        "    scores.append(score)\n",
        "print(f\"Оптимальное число кластеров {scores.index(max(scores)) + 2}, с баллом {max(scores)}\")\n",
        "# Визуализация результатов\n",
        "plt.plot(range(2, 11), scores)\n",
        "plt.xlabel('Number of Clusters')\n",
        "plt.ylabel('Silhouette Score')\n",
        "plt.show()"
      ]
    },
    {
      "cell_type": "code",
      "execution_count": null,
      "metadata": {
        "colab": {
          "base_uri": "https://localhost:8080/",
          "height": 466
        },
        "id": "1Q-3wfBrFFak",
        "outputId": "4894d193-aebe-40de-d5cf-00d8bafa4ad5"
      },
      "outputs": [
        {
          "name": "stdout",
          "output_type": "stream",
          "text": [
            "Оптимальное число кластеров 10, с баллом 18522.6208473723\n"
          ]
        },
        {
          "data": {
            "image/png": "[encoded data removed]",
            "text/plain": [
              "<Figure size 640x480 with 1 Axes>"
            ]
          },
          "metadata": {},
          "output_type": "display_data"
        }
      ],
      "source": [
        "#calinski_harabasz_score на 16\n",
        "from sklearn.metrics import calinski_harabasz_score\n",
        "\n",
        "scores = []\n",
        "for k in range(2, 11):\n",
        "    kmeans = KMeans(n_clusters=k, n_init=16, random_state=42)\n",
        "    kmeans.fit(X_scaled)\n",
        "    score = calinski_harabasz_score(X_scaled, kmeans.labels_)\n",
        "    scores.append(score)\n",
        "\n",
        "print(f\"Оптимальное число кластеров {scores.index(max(scores)) + 2}, с баллом {max(scores)}\")\n",
        "\n",
        "# Визуализация результатов\n",
        "plt.plot(range(2, 11), scores)\n",
        "plt.xlabel('Number of Clusters')\n",
        "plt.ylabel('Calinski Harabasz Score')\n",
        "plt.show()"
      ]
    },
    {
      "cell_type": "code",
      "execution_count": null,
      "metadata": {
        "id": "OFn8nTne9wZm"
      },
      "outputs": [],
      "source": [
        "\"\"\"\n",
        "Здесь DBSCAN и метрики. Используйте поиск оптимального EPS. Объясните почему?\n",
        "\"\"\""
      ]
    },
    {
      "cell_type": "code",
      "execution_count": null,
      "metadata": {
        "colab": {
          "base_uri": "https://localhost:8080/",
          "height": 291
        },
        "id": "i_oSxTChIDuY",
        "outputId": "92cd9799-d7c0-4646-c7a5-3341019eb3f8"
      },
      "outputs": [
        {
          "data": {
            "image/png": "[encoded data removed]",
            "text/plain": [
              "<Figure size 500x300 with 1 Axes>"
            ]
          },
          "metadata": {},
          "output_type": "display_data"
        }
      ],
      "source": [
        "#Находим eps\n",
        "from sklearn.neighbors import NearestNeighbors # importing the library\n",
        "neighb = NearestNeighbors(n_neighbors=2) # creating an object of the NearestNeighbors class\n",
        "nbrs=neighb.fit(X) # fitting the data to the object\n",
        "distances,indices=nbrs.kneighbors(X)\n",
        "\n",
        "distances = np.sort(distances, axis = 0) # sorting the distances\n",
        "distances = distances[:, 1] # taking the second column of the sorted distances\n",
        "plt.rcParams['figure.figsize'] = (5,3) # setting the figure size\n",
        "plt.plot(distances) # plotting the distances\n",
        "plt.show() # showing the plot"
      ]
    },
    {
      "cell_type": "markdown",
      "metadata": {
        "id": "fF5nxJoGI-zc"
      },
      "source": [
        "Опираясь на график, можно сказать, что eps=0.035"
      ]
    },
    {
      "cell_type": "code",
      "execution_count": null,
      "metadata": {
        "id": "TVxZBHVcPeOm"
      },
      "outputs": [],
      "source": [
        "from sklearn.preprocessing import StandardScaler\n",
        "from sklearn.cluster import DBSCAN\n",
        "\n",
        "x_scaler = StandardScaler().fit_transform(X)\n",
        "\n",
        "# Инициализация и обучение модели DBSCAN\n",
        "dbscan = DBSCAN(eps=0.035, min_samples=16)\n",
        "dbscan.fit(x_scaler)\n",
        "\n",
        "# Получение меток кластеров для каждой точки (-1 означает выбросы)\n",
        "labels = dbscan.labels_"
      ]
    },
    {
      "cell_type": "code",
      "execution_count": null,
      "metadata": {
        "id": "YF-BNGiKRi1U"
      },
      "outputs": [],
      "source": []
    },
    {
      "cell_type": "code",
      "execution_count": null,
      "metadata": {
        "id": "rExlsKgQ9_vr"
      },
      "outputs": [],
      "source": [
        "\"\"\"\n",
        "Здесь визуализация кластеров DBSCAN\n",
        "(Для многомерных данных используйте сжатие методами (на выбор один из) PCA/t-TSNE/umap до 2,3 точек - влияет на вид гарфика, если 2 точки - то двумерный, если три точки - то трехмерный)\n",
        "\"\"\""
      ]
    },
    {
      "cell_type": "code",
      "execution_count": null,
      "metadata": {
        "colab": {
          "base_uri": "https://localhost:8080/",
          "height": 452
        },
        "id": "XRmrp3QJPetF",
        "outputId": "19b15c97-583f-4786-d735-3f60a88d1ed3"
      },
      "outputs": [
        {
          "data": {
            "image/png": "[encoded data removed]",
            "text/plain": [
              "<Figure size 500x300 with 1 Axes>"
            ]
          },
          "metadata": {},
          "output_type": "display_data"
        }
      ],
      "source": [
        "# Визуализация результатов, темные точки - выбросы\n",
        "plt.scatter(X.to_numpy()[:, 0], X.to_numpy()[:, 1], c=labels, cmap='viridis')\n",
        "plt.title('DBSCAN Clustering')\n",
        "plt.show()"
      ]
    },
    {
      "cell_type": "code",
      "execution_count": null,
      "metadata": {
        "colab": {
          "base_uri": "https://localhost:8080/",
          "height": 466
        },
        "id": "g_0FI5o6RjK8",
        "outputId": "aaea624b-e1e5-4848-ef4e-1df682e769eb"
      },
      "outputs": [
        {
          "name": "stdout",
          "output_type": "stream",
          "text": [
            "Оптимальное число кластеров 7, с баллом 0.6277497471355711\n"
          ]
        },
        {
          "data": {
            "image/png": "[encoded data removed]",
            "text/plain": [
              "<Figure size 640x480 with 1 Axes>"
            ]
          },
          "metadata": {},
          "output_type": "display_data"
        }
      ],
      "source": [
        "from sklearn.metrics import davies_bouldin_score\n",
        "\n",
        "scores = []\n",
        "for k in range(2, 11):\n",
        "    kmeans = KMeans(n_clusters=k, n_init=16, random_state=42)\n",
        "    kmeans.fit(X_scaled)\n",
        "    score = davies_bouldin_score(X_scaled, kmeans.labels_)\n",
        "    scores.append(score)\n",
        "print(f\"Оптимальное число кластеров {scores.index(min(scores)) + 2}, с баллом {min(scores)}\")\n",
        "# Визуализация результатов\n",
        "plt.plot(range(2, 11), scores)\n",
        "plt.xlabel('Number of Clusters')\n",
        "plt.ylabel('Davies Bouldin Score')\n",
        "plt.show()"
      ]
    },
    {
      "cell_type": "code",
      "execution_count": null,
      "metadata": {
        "id": "VOJwk8Pw9zIm"
      },
      "outputs": [],
      "source": [
        "\"\"\"\n",
        "Здесь иерархическая кластеризация и метрики\n",
        "\"\"\""
      ]
    },
    {
      "cell_type": "code",
      "execution_count": null,
      "metadata": {
        "colab": {
          "base_uri": "https://localhost:8080/",
          "height": 75
        },
        "id": "41otDBM2PfEP",
        "outputId": "f4a53504-9b19-4724-82eb-af9dedc9461a"
      },
      "outputs": [
        {
          "data": {
            "text/html": [
              "<style>#sk-container-id-1 {color: black;background-color: white;}#sk-container-id-1 pre{padding: 0;}#sk-container-id-1 div.sk-toggleable {background-color: white;}#sk-container-id-1 label.sk-toggleable__label {cursor: pointer;display: block;width: 100%;margin-bottom: 0;padding: 0.3em;box-sizing: border-box;text-align: center;}#sk-container-id-1 label.sk-toggleable__label-arrow:before {content: \"▸\";float: left;margin-right: 0.25em;color: #696969;}#sk-container-id-1 label.sk-toggleable__label-arrow:hover:before {color: black;}#sk-container-id-1 div.sk-estimator:hover label.sk-toggleable__label-arrow:before {color: black;}#sk-container-id-1 div.sk-toggleable__content {max-height: 0;max-width: 0;overflow: hidden;text-align: left;background-color: #f0f8ff;}#sk-container-id-1 div.sk-toggleable__content pre {margin: 0.2em;color: black;border-radius: 0.25em;background-color: #f0f8ff;}#sk-container-id-1 input.sk-toggleable__control:checked~div.sk-toggleable__content {max-height: 200px;max-width: 100%;overflow: auto;}#sk-container-id-1 input.sk-toggleable__control:checked~label.sk-toggleable__label-arrow:before {content: \"▾\";}#sk-container-id-1 div.sk-estimator input.sk-toggleable__control:checked~label.sk-toggleable__label {background-color: #d4ebff;}#sk-container-id-1 div.sk-label input.sk-toggleable__control:checked~label.sk-toggleable__label {background-color: #d4ebff;}#sk-container-id-1 input.sk-hidden--visually {border: 0;clip: rect(1px 1px 1px 1px);clip: rect(1px, 1px, 1px, 1px);height: 1px;margin: -1px;overflow: hidden;padding: 0;position: absolute;width: 1px;}#sk-container-id-1 div.sk-estimator {font-family: monospace;background-color: #f0f8ff;border: 1px dotted black;border-radius: 0.25em;box-sizing: border-box;margin-bottom: 0.5em;}#sk-container-id-1 div.sk-estimator:hover {background-color: #d4ebff;}#sk-container-id-1 div.sk-parallel-item::after {content: \"\";width: 100%;border-bottom: 1px solid gray;flex-grow: 1;}#sk-container-id-1 div.sk-label:hover label.sk-toggleable__label {background-color: #d4ebff;}#sk-container-id-1 div.sk-serial::before {content: \"\";position: absolute;border-left: 1px solid gray;box-sizing: border-box;top: 0;bottom: 0;left: 50%;z-index: 0;}#sk-container-id-1 div.sk-serial {display: flex;flex-direction: column;align-items: center;background-color: white;padding-right: 0.2em;padding-left: 0.2em;position: relative;}#sk-container-id-1 div.sk-item {position: relative;z-index: 1;}#sk-container-id-1 div.sk-parallel {display: flex;align-items: stretch;justify-content: center;background-color: white;position: relative;}#sk-container-id-1 div.sk-item::before, #sk-container-id-1 div.sk-parallel-item::before {content: \"\";position: absolute;border-left: 1px solid gray;box-sizing: border-box;top: 0;bottom: 0;left: 50%;z-index: -1;}#sk-container-id-1 div.sk-parallel-item {display: flex;flex-direction: column;z-index: 1;position: relative;background-color: white;}#sk-container-id-1 div.sk-parallel-item:first-child::after {align-self: flex-end;width: 50%;}#sk-container-id-1 div.sk-parallel-item:last-child::after {align-self: flex-start;width: 50%;}#sk-container-id-1 div.sk-parallel-item:only-child::after {width: 0;}#sk-container-id-1 div.sk-dashed-wrapped {border: 1px dashed gray;margin: 0 0.4em 0.5em 0.4em;box-sizing: border-box;padding-bottom: 0.4em;background-color: white;}#sk-container-id-1 div.sk-label label {font-family: monospace;font-weight: bold;display: inline-block;line-height: 1.2em;}#sk-container-id-1 div.sk-label-container {text-align: center;}#sk-container-id-1 div.sk-container {/* jupyter's `normalize.less` sets `[hidden] { display: none; }` but bootstrap.min.css set `[hidden] { display: none !important; }` so we also need the `!important` here to be able to override the default hidden behavior on the sphinx rendered scikit-learn.org. See: https://github.com/scikit-learn/scikit-learn/issues/21755 */display: inline-block !important;position: relative;}#sk-container-id-1 div.sk-text-repr-fallback {display: none;}</style><div id=\"sk-container-id-1\" class=\"sk-top-container\"><div class=\"sk-text-repr-fallback\"><pre>AgglomerativeClustering(n_clusters=4)</pre><b>In a Jupyter environment, please rerun this cell to show the HTML representation or trust the notebook. <br />On GitHub, the HTML representation is unable to render, please try loading this page with nbviewer.org.</b></div><div class=\"sk-container\" hidden><div class=\"sk-item\"><div class=\"sk-estimator sk-toggleable\"><input class=\"sk-toggleable__control sk-hidden--visually\" id=\"sk-estimator-id-1\" type=\"checkbox\" checked><label for=\"sk-estimator-id-1\" class=\"sk-toggleable__label sk-toggleable__label-arrow\">AgglomerativeClustering</label><div class=\"sk-toggleable__content\"><pre>AgglomerativeClustering(n_clusters=4)</pre></div></div></div></div></div>"
            ],
            "text/plain": [
              "AgglomerativeClustering(n_clusters=4)"
            ]
          },
          "execution_count": 14,
          "metadata": {},
          "output_type": "execute_result"
        }
      ],
      "source": [
        "from sklearn.cluster import AgglomerativeClustering\n",
        "from scipy.cluster.hierarchy import dendrogram\n",
        "\n",
        "# Инициализация и обучение модели иерархической кластеризации\n",
        "agg_clustering = AgglomerativeClustering(n_clusters=4)\n",
        "agg_clustering.fit(X)"
      ]
    },
    {
      "cell_type": "code",
      "execution_count": null,
      "metadata": {
        "id": "fb30H4awRjfQ"
      },
      "outputs": [],
      "source": []
    },
    {
      "cell_type": "code",
      "execution_count": null,
      "metadata": {
        "id": "Bv7A729L-Csh"
      },
      "outputs": [],
      "source": [
        "\"\"\"\n",
        "Здесь визуализация кластеров иерархической кластеризации\n",
        "(Для многомерных данных используйте сжатие методами (на выбор один из) PCA/t-TSNE/umap до 2,3 точек - влияет на вид гарфика, если 2 точки - то двумерный, если три точки - то трехмерный)\n",
        "\"\"\""
      ]
    },
    {
      "cell_type": "code",
      "execution_count": null,
      "metadata": {
        "id": "7475JNZJPfki"
      },
      "outputs": [],
      "source": [
        "# Визуализация дендрограммы\n",
        "from scipy.cluster import hierarchy\n",
        "linkage_matrix = hierarchy.linkage(X, method='ward')\n",
        "dendrogram(linkage_matrix)\n",
        "plt.title('Hierarchical Clustering Dendrogram')\n",
        "plt.show()"
      ]
    },
    {
      "cell_type": "code",
      "execution_count": null,
      "metadata": {
        "id": "IpHpWTVWRj-Q"
      },
      "outputs": [],
      "source": [
        "# Визуализация результатов кластеризации\n",
        "plt.scatter(X.to_numpy()[:, 0], X.to_numpy()[:, 1], c=agg_clustering.labels_, cmap='viridis')\n",
        "plt.title('Agglomerative Clustering')\n",
        "plt.show()"
      ]
    },
    {
      "cell_type": "code",
      "execution_count": null,
      "metadata": {
        "id": "yZqfH8KMI0sA"
      },
      "outputs": [],
      "source": [
        "!pip install ydata-profiling"
      ]
    },
    {
      "cell_type": "markdown",
      "metadata": {
        "id": "F6luFBUtI1Xf"
      },
      "source": [
        "Выполните профилирование набора данных относительно кластеров, используя оригинальный набор данных.\n",
        "\n",
        "P.S. задание для всех"
      ]
    },
    {
      "cell_type": "code",
      "execution_count": null,
      "metadata": {
        "id": "-XEU0mlPLCMP"
      },
      "outputs": [],
      "source": [
        "#\n",
        "#### Приветсвуется ручной анилиз - гарфики, статистика по разным кластерам, как альтернативный путь решения задачи\n",
        "#\n",
        "\n",
        "# 1. в оригинальный набор данных добавьте колонки с кластерами и работаем с ним\n",
        "\n",
        "\"\"\"\n",
        "df['kmeans_cluster'] = kmeans_cluster.labels_\n",
        "df['dbsscan_cluster'] = dbsscan_cluster.labels_\n",
        "...\n",
        "\"\"\"\n",
        "\n",
        "# 2. Выполните фильтрацию относительно каждого кластера и каждого алгоритма (Внимание, кластер -1 не учитываем в DBSSCAN, тк это выбросы. То есть, точки не вошли ни в одни кластер)\n",
        "\"\"\"\n",
        "P.S за пример взять 1 тип кластеров, выполните для всех (если кластеров больше 3, разрешено использовать первые три кластера для анализа)\n",
        "\n",
        "from ydata_profiling import ProfileReport\n",
        "df['dbscan_labels'] = dbscan.labels_\n",
        "\n",
        "uniq_labels = tuple(set(dbscan.labels_))\n",
        "\n",
        "print(uniq_labels)\n",
        "\n",
        "\"\"\"\n",
        "\n",
        "# 3. Выполните профилирование\n",
        "\"\"\"\n",
        "На отдельной ячейке выполните профилирование для каждого кластера и каждого алгоритма\n",
        "\n",
        "from ydata_profiling import ProfileReport\n",
        "\n",
        "ProfileReport(df[df.dbscan_labels == 0]) # фильтруем по кластерам из uniq_labels, получаем красивый результат :)\n",
        "\n",
        "\"\"\"\n",
        "\n",
        "# 4. Проанализируйте результат по кластерам. Какие переменные попали в каждый кластер, их различия (статистические), графики.\n",
        "# Постарайтесь объяснить различия \"фактически\".\n",
        "# Например, видно, что в кластер 1 у пациентов возраст выше в среднем и в медиане, чем в остальных, что может свидетельствоать о влиянии возраста на кластер №()\n",
        "\n"
      ]
    },
    {
      "cell_type": "code",
      "execution_count": null,
      "metadata": {
        "id": "i5qS3TZsPgOK"
      },
      "outputs": [],
      "source": [
        "df['kmeans_cluster'] = cluster_labels_2\n",
        "df['dbscan_cluster'] = labels"
      ]
    },
    {
      "cell_type": "code",
      "execution_count": null,
      "metadata": {
        "colab": {
          "base_uri": "https://localhost:8080/"
        },
        "id": "Ka1q6SN5-ZCc",
        "outputId": "84092b57-77b6-4f46-e1cb-95684bb1f4da"
      },
      "outputs": [
        {
          "name": "stdout",
          "output_type": "stream",
          "text": [
            "(0, 1, 2, 3, 4, 5, 6, 7, 8, 9, 10, 11, 12, 13, 14, 15)\n"
          ]
        }
      ],
      "source": [
        "from ydata_profiling import ProfileReport\n",
        "\n",
        "df['dbscan_labels'] = dbscan.labels_\n",
        "\n",
        "#df[\"kmeans_labels\"] = cluster_labels_2\n",
        "uniq_labels = tuple(set(cluster_labels_2))\n",
        "\n",
        "print(uniq_labels)"
      ]
    },
    {
      "cell_type": "code",
      "execution_count": null,
      "metadata": {
        "id": "olbjuUQ4lPcV",
        "outputId": "5e497f42-eed5-4503-cebf-892a0f9a00ea"
      },
      "outputs": [
        {
          "data": {
            "text/plain": [
              "array([ 0, -1,  1,  2,  3,  4, 16,  5,  6,  7,  8,  9, 20, 11, 18, 14, 10,\n",
              "       12, 13, 15, 17, 19])"
            ]
          },
          "execution_count": 116,
          "metadata": {},
          "output_type": "execute_result"
        }
      ],
      "source": [
        "df.dbscan_labels.unique()"
      ]
    },
    {
      "cell_type": "code",
      "execution_count": null,
      "metadata": {
        "id": "fgihD1xRlPcW",
        "outputId": "7ec009ff-b3c8-4f35-94d9-eb69bb77c3a7"
      },
      "outputs": [
        {
          "data": {
            "text/plain": [
              "Index(['work_year', 'experience_level', 'employment_type', 'salary',\n",
              "       'salary_currency', 'salary_in_usd', 'employee_residence',\n",
              "       'remote_ratio', 'company_location', 'company_size', 'kmeans_cluster',\n",
              "       'dbsscan_cluster', 'dbscan_cluster', 'dbscan_labels'],\n",
              "      dtype='object')"
            ]
          },
          "execution_count": 117,
          "metadata": {},
          "output_type": "execute_result"
        }
      ],
      "source": [
        "df.columns"
      ]
    },
    {
      "cell_type": "code",
      "execution_count": null,
      "metadata": {
        "id": "rMa5pQF5lPcW"
      },
      "outputs": [],
      "source": [
        "df_analysis = df[[\"experience_level\", \"salary_in_usd\", 'dbscan_labels']]\n",
        "#df_analysis = df_analysis.dropna()\n",
        "# df_analysis = df_analysis[df.dbscan_labels == 0]"
      ]
    },
    {
      "cell_type": "code",
      "execution_count": null,
      "metadata": {
        "id": "zKY-fMjxlPcX"
      },
      "outputs": [],
      "source": [
        "result = df_analysis[df.dbscan_labels == 0].drop(columns=['dbscan_labels'])"
      ]
    },
    {
      "cell_type": "code",
      "execution_count": null,
      "metadata": {
        "id": "sTzrBC8VlPcX",
        "outputId": "7de59d5c-17e9-44c2-9380-02d116ab92cf"
      },
      "outputs": [
        {
          "name": "stderr",
          "output_type": "stream",
          "text": [
            "Summarize dataset:  50%|█████     | 5/10 [00:00<00:00, 18.72it/s, scatter salary_in_usd, salary_in_usd]\n"
          ]
        },
        {
          "name": "stdout",
          "output_type": "stream",
          "text": [
            "Unexpected exception formatting exception. Falling back to standard exception\n"
          ]
        },
        {
          "name": "stderr",
          "output_type": "stream",
          "text": [
            "Traceback (most recent call last):\n",
            "  File \"/home/tengu/miniconda3/envs/ml/lib/python3.11/site-packages/IPython/core/formatters.py\", line 223, in catch_format_error\n",
            "    r = method(self, *args, **kwargs)\n",
            "        ^^^^^^^^^^^^^^^^^^^^^^^^^^^^^\n",
            "  File \"/home/tengu/miniconda3/envs/ml/lib/python3.11/site-packages/IPython/core/formatters.py\", line 344, in __call__\n",
            "    return method()\n",
            "           ^^^^^^^^\n",
            "  File \"/home/tengu/miniconda3/envs/ml/lib/python3.11/site-packages/ydata_profiling/profile_report.py\", line 520, in _repr_html_\n",
            "    self.to_notebook_iframe()\n",
            "  File \"/home/tengu/miniconda3/envs/ml/lib/python3.11/site-packages/ydata_profiling/profile_report.py\", line 500, in to_notebook_iframe\n",
            "    display(get_notebook_iframe(self.config, self))\n",
            "            ^^^^^^^^^^^^^^^^^^^^^^^^^^^^^^^^^^^^^^\n",
            "  File \"/home/tengu/miniconda3/envs/ml/lib/python3.11/site-packages/ydata_profiling/report/presentation/flavours/widget/notebook.py\", line 75, in get_notebook_iframe\n",
            "    output = get_notebook_iframe_srcdoc(config, profile)\n",
            "             ^^^^^^^^^^^^^^^^^^^^^^^^^^^^^^^^^^^^^^^^^^^\n",
            "  File \"/home/tengu/miniconda3/envs/ml/lib/python3.11/site-packages/ydata_profiling/report/presentation/flavours/widget/notebook.py\", line 29, in get_notebook_iframe_srcdoc\n",
            "    src = html.escape(profile.to_html())\n",
            "                      ^^^^^^^^^^^^^^^^^\n",
            "  File \"/home/tengu/miniconda3/envs/ml/lib/python3.11/site-packages/ydata_profiling/profile_report.py\", line 470, in to_html\n",
            "    return self.html\n",
            "           ^^^^^^^^^\n",
            "  File \"/home/tengu/miniconda3/envs/ml/lib/python3.11/site-packages/ydata_profiling/profile_report.py\", line 277, in html\n",
            "    self._html = self._render_html()\n",
            "                 ^^^^^^^^^^^^^^^^^^^\n",
            "  File \"/home/tengu/miniconda3/envs/ml/lib/python3.11/site-packages/ydata_profiling/profile_report.py\", line 385, in _render_html\n",
            "    report = self.report\n",
            "             ^^^^^^^^^^^\n",
            "  File \"/home/tengu/miniconda3/envs/ml/lib/python3.11/site-packages/ydata_profiling/profile_report.py\", line 271, in report\n",
            "    self._report = get_report_structure(self.config, self.description_set)\n",
            "                                                     ^^^^^^^^^^^^^^^^^^^^\n",
            "  File \"/home/tengu/miniconda3/envs/ml/lib/python3.11/site-packages/ydata_profiling/profile_report.py\", line 253, in description_set\n",
            "    self._description_set = describe_df(\n",
            "                            ^^^^^^^^^^^^\n",
            "  File \"/home/tengu/miniconda3/envs/ml/lib/python3.11/site-packages/ydata_profiling/model/describe.py\", line 130, in describe\n",
            "    scatter_matrix[x][y] = progress(\n",
            "                           ^^^^^^^^^\n",
            "  File \"/home/tengu/miniconda3/envs/ml/lib/python3.11/site-packages/ydata_profiling/utils/progress_bar.py\", line 11, in inner\n",
            "    ret = fn(*args, **kwargs)\n",
            "          ^^^^^^^^^^^^^^^^^^^\n",
            "  File \"/home/tengu/miniconda3/envs/ml/lib/python3.11/site-packages/ydata_profiling/model/pairwise.py\", line 31, in get_scatter_plot\n",
            "    return scatter_pairwise(config, df_temp[x], df_temp[y], x, y)\n",
            "           ^^^^^^^^^^^^^^^^^^^^^^^^^^^^^^^^^^^^^^^^^^^^^^^^^^^^^^\n",
            "  File \"/home/tengu/miniconda3/envs/ml/lib/python3.11/contextlib.py\", line 80, in inner\n",
            "    with self._recreate_cm():\n",
            "  File \"/home/tengu/miniconda3/envs/ml/lib/python3.11/contextlib.py\", line 137, in __enter__\n",
            "    return next(self.gen)\n",
            "           ^^^^^^^^^^^^^^\n",
            "  File \"/home/tengu/miniconda3/envs/ml/lib/python3.11/site-packages/ydata_profiling/visualisation/context.py\", line 83, in manage_matplotlib_context\n",
            "    deregister_matplotlib_converters()  # revert to original unit registries\n",
            "    ^^^^^^^^^^^^^^^^^^^^^^^^^^^^^^^^^^\n",
            "  File \"/home/tengu/miniconda3/envs/ml/lib/python3.11/site-packages/pandas/plotting/_misc.py\", line 151, in deregister\n",
            "    <AxesSubplot: xlabel='B', ylabel='C'>,\n",
            "           ^^^^^^^^^^^^^^^^^^^^^^^^^^^^^^^\n",
            "  File \"/home/tengu/miniconda3/envs/ml/lib/python3.11/site-packages/pandas/plotting/_core.py\", line 1947, in _get_plot_backend\n",
            "  File \"/home/tengu/miniconda3/envs/ml/lib/python3.11/site-packages/pandas/plotting/_core.py\", line 1877, in _load_backend\n",
            "ImportError: matplotlib is required for plotting when the default backend \"matplotlib\" is selected.\n",
            "\n",
            "During handling of the above exception, another exception occurred:\n",
            "\n",
            "Traceback (most recent call last):\n",
            "  File \"/home/tengu/miniconda3/envs/ml/lib/python3.11/site-packages/IPython/core/interactiveshell.py\", line 2144, in showtraceback\n",
            "    stb = self.InteractiveTB.structured_traceback(\n",
            "          ^^^^^^^^^^^^^^^^^^^^^^^^^^^^^^^^^^^^^^^^\n",
            "  File \"/home/tengu/miniconda3/envs/ml/lib/python3.11/site-packages/IPython/core/ultratb.py\", line 1435, in structured_traceback\n",
            "    return FormattedTB.structured_traceback(\n",
            "           ^^^^^^^^^^^^^^^^^^^^^^^^^^^^^^^^^\n",
            "  File \"/home/tengu/miniconda3/envs/ml/lib/python3.11/site-packages/IPython/core/ultratb.py\", line 1326, in structured_traceback\n",
            "    return VerboseTB.structured_traceback(\n",
            "           ^^^^^^^^^^^^^^^^^^^^^^^^^^^^^^^\n",
            "  File \"/home/tengu/miniconda3/envs/ml/lib/python3.11/site-packages/IPython/core/ultratb.py\", line 1173, in structured_traceback\n",
            "    formatted_exception = self.format_exception_as_a_whole(etype, evalue, etb, number_of_lines_of_context,\n",
            "                          ^^^^^^^^^^^^^^^^^^^^^^^^^^^^^^^^^^^^^^^^^^^^^^^^^^^^^^^^^^^^^^^^^^^^^^^^^^^^^^^^\n",
            "  File \"/home/tengu/miniconda3/envs/ml/lib/python3.11/site-packages/IPython/core/ultratb.py\", line 1088, in format_exception_as_a_whole\n",
            "    frames.append(self.format_record(record))\n",
            "                  ^^^^^^^^^^^^^^^^^^^^^^^^^^\n",
            "  File \"/home/tengu/miniconda3/envs/ml/lib/python3.11/site-packages/IPython/core/ultratb.py\", line 970, in format_record\n",
            "    frame_info.lines, Colors, self.has_colors, lvals\n",
            "    ^^^^^^^^^^^^^^^^\n",
            "  File \"/home/tengu/miniconda3/envs/ml/lib/python3.11/site-packages/IPython/core/ultratb.py\", line 792, in lines\n",
            "    return self._sd.lines\n",
            "           ^^^^^^^^^^^^^^\n",
            "  File \"/home/tengu/miniconda3/envs/ml/lib/python3.11/site-packages/stack_data/utils.py\", line 144, in cached_property_wrapper\n",
            "    value = obj.__dict__[self.func.__name__] = self.func(obj)\n",
            "                                               ^^^^^^^^^^^^^^\n",
            "  File \"/home/tengu/miniconda3/envs/ml/lib/python3.11/site-packages/stack_data/core.py\", line 734, in lines\n",
            "    pieces = self.included_pieces\n",
            "             ^^^^^^^^^^^^^^^^^^^^\n",
            "  File \"/home/tengu/miniconda3/envs/ml/lib/python3.11/site-packages/stack_data/utils.py\", line 144, in cached_property_wrapper\n",
            "    value = obj.__dict__[self.func.__name__] = self.func(obj)\n",
            "                                               ^^^^^^^^^^^^^^\n",
            "  File \"/home/tengu/miniconda3/envs/ml/lib/python3.11/site-packages/stack_data/core.py\", line 681, in included_pieces\n",
            "    pos = scope_pieces.index(self.executing_piece)\n",
            "                             ^^^^^^^^^^^^^^^^^^^^\n",
            "  File \"/home/tengu/miniconda3/envs/ml/lib/python3.11/site-packages/stack_data/utils.py\", line 144, in cached_property_wrapper\n",
            "    value = obj.__dict__[self.func.__name__] = self.func(obj)\n",
            "                                               ^^^^^^^^^^^^^^\n",
            "  File \"/home/tengu/miniconda3/envs/ml/lib/python3.11/site-packages/stack_data/core.py\", line 660, in executing_piece\n",
            "    return only(\n",
            "           ^^^^^\n",
            "  File \"/home/tengu/miniconda3/envs/ml/lib/python3.11/site-packages/executing/executing.py\", line 116, in only\n",
            "    raise NotOneValueFound('Expected one value, found 0')\n",
            "executing.executing.NotOneValueFound: Expected one value, found 0\n"
          ]
        },
        {
          "data": {
            "text/plain": []
          },
          "execution_count": 125,
          "metadata": {},
          "output_type": "execute_result"
        }
      ],
      "source": [
        "ProfileReport(result)"
      ]
    },
    {
      "cell_type": "code",
      "execution_count": null,
      "metadata": {
        "colab": {
          "base_uri": "https://localhost:8080/",
          "height": 494
        },
        "id": "X2ycYcKB_O1C",
        "outputId": "c2cabe55-e496-4e6a-cffc-6544163ec981"
      },
      "outputs": [
        {
          "name": "stderr",
          "output_type": "stream",
          "text": [
            "Summarize dataset:  50%|█████     | 5/10 [00:00<00:00, 12.97it/s, scatter salary_in_usd, salary_in_usd]\n"
          ]
        },
        {
          "name": "stdout",
          "output_type": "stream",
          "text": [
            "Unexpected exception formatting exception. Falling back to standard exception\n"
          ]
        },
        {
          "name": "stderr",
          "output_type": "stream",
          "text": [
            "Traceback (most recent call last):\n",
            "  File \"/home/tengu/miniconda3/envs/ml/lib/python3.11/site-packages/IPython/core/formatters.py\", line 223, in catch_format_error\n",
            "    r = method(self, *args, **kwargs)\n",
            "        ^^^^^^^^^^^^^^^^^^^^^^^^^^^^^\n",
            "  File \"/home/tengu/miniconda3/envs/ml/lib/python3.11/site-packages/IPython/core/formatters.py\", line 344, in __call__\n",
            "    return method()\n",
            "           ^^^^^^^^\n",
            "  File \"/home/tengu/miniconda3/envs/ml/lib/python3.11/site-packages/ydata_profiling/profile_report.py\", line 520, in _repr_html_\n",
            "    self.to_notebook_iframe()\n",
            "  File \"/home/tengu/miniconda3/envs/ml/lib/python3.11/site-packages/ydata_profiling/profile_report.py\", line 500, in to_notebook_iframe\n",
            "    display(get_notebook_iframe(self.config, self))\n",
            "            ^^^^^^^^^^^^^^^^^^^^^^^^^^^^^^^^^^^^^^\n",
            "  File \"/home/tengu/miniconda3/envs/ml/lib/python3.11/site-packages/ydata_profiling/report/presentation/flavours/widget/notebook.py\", line 75, in get_notebook_iframe\n",
            "    output = get_notebook_iframe_srcdoc(config, profile)\n",
            "             ^^^^^^^^^^^^^^^^^^^^^^^^^^^^^^^^^^^^^^^^^^^\n",
            "  File \"/home/tengu/miniconda3/envs/ml/lib/python3.11/site-packages/ydata_profiling/report/presentation/flavours/widget/notebook.py\", line 29, in get_notebook_iframe_srcdoc\n",
            "    src = html.escape(profile.to_html())\n",
            "                      ^^^^^^^^^^^^^^^^^\n",
            "  File \"/home/tengu/miniconda3/envs/ml/lib/python3.11/site-packages/ydata_profiling/profile_report.py\", line 470, in to_html\n",
            "    return self.html\n",
            "           ^^^^^^^^^\n",
            "  File \"/home/tengu/miniconda3/envs/ml/lib/python3.11/site-packages/ydata_profiling/profile_report.py\", line 277, in html\n",
            "    self._html = self._render_html()\n",
            "                 ^^^^^^^^^^^^^^^^^^^\n",
            "  File \"/home/tengu/miniconda3/envs/ml/lib/python3.11/site-packages/ydata_profiling/profile_report.py\", line 385, in _render_html\n",
            "    report = self.report\n",
            "             ^^^^^^^^^^^\n",
            "  File \"/home/tengu/miniconda3/envs/ml/lib/python3.11/site-packages/ydata_profiling/profile_report.py\", line 271, in report\n",
            "    self._report = get_report_structure(self.config, self.description_set)\n",
            "                                                     ^^^^^^^^^^^^^^^^^^^^\n",
            "  File \"/home/tengu/miniconda3/envs/ml/lib/python3.11/site-packages/ydata_profiling/profile_report.py\", line 253, in description_set\n",
            "    self._description_set = describe_df(\n",
            "                            ^^^^^^^^^^^^\n",
            "  File \"/home/tengu/miniconda3/envs/ml/lib/python3.11/site-packages/ydata_profiling/model/describe.py\", line 130, in describe\n",
            "    scatter_matrix[x][y] = progress(\n",
            "                           ^^^^^^^^^\n",
            "  File \"/home/tengu/miniconda3/envs/ml/lib/python3.11/site-packages/ydata_profiling/utils/progress_bar.py\", line 11, in inner\n",
            "    ret = fn(*args, **kwargs)\n",
            "          ^^^^^^^^^^^^^^^^^^^\n",
            "  File \"/home/tengu/miniconda3/envs/ml/lib/python3.11/site-packages/ydata_profiling/model/pairwise.py\", line 31, in get_scatter_plot\n",
            "    return scatter_pairwise(config, df_temp[x], df_temp[y], x, y)\n",
            "           ^^^^^^^^^^^^^^^^^^^^^^^^^^^^^^^^^^^^^^^^^^^^^^^^^^^^^^\n",
            "  File \"/home/tengu/miniconda3/envs/ml/lib/python3.11/contextlib.py\", line 80, in inner\n",
            "    with self._recreate_cm():\n",
            "  File \"/home/tengu/miniconda3/envs/ml/lib/python3.11/contextlib.py\", line 137, in __enter__\n",
            "    return next(self.gen)\n",
            "           ^^^^^^^^^^^^^^\n",
            "  File \"/home/tengu/miniconda3/envs/ml/lib/python3.11/site-packages/ydata_profiling/visualisation/context.py\", line 83, in manage_matplotlib_context\n",
            "    deregister_matplotlib_converters()  # revert to original unit registries\n",
            "    ^^^^^^^^^^^^^^^^^^^^^^^^^^^^^^^^^^\n",
            "  File \"/home/tengu/miniconda3/envs/ml/lib/python3.11/site-packages/pandas/plotting/_misc.py\", line 151, in deregister\n",
            "    <AxesSubplot: xlabel='B', ylabel='C'>,\n",
            "           ^^^^^^^^^^^^^^^^^^^^^^^^^^^^^^^\n",
            "  File \"/home/tengu/miniconda3/envs/ml/lib/python3.11/site-packages/pandas/plotting/_core.py\", line 1947, in _get_plot_backend\n",
            "  File \"/home/tengu/miniconda3/envs/ml/lib/python3.11/site-packages/pandas/plotting/_core.py\", line 1877, in _load_backend\n",
            "ImportError: matplotlib is required for plotting when the default backend \"matplotlib\" is selected.\n",
            "\n",
            "During handling of the above exception, another exception occurred:\n",
            "\n",
            "Traceback (most recent call last):\n",
            "  File \"/home/tengu/miniconda3/envs/ml/lib/python3.11/site-packages/IPython/core/interactiveshell.py\", line 2144, in showtraceback\n",
            "    stb = self.InteractiveTB.structured_traceback(\n",
            "          ^^^^^^^^^^^^^^^^^^^^^^^^^^^^^^^^^^^^^^^^\n",
            "  File \"/home/tengu/miniconda3/envs/ml/lib/python3.11/site-packages/IPython/core/ultratb.py\", line 1435, in structured_traceback\n",
            "    return FormattedTB.structured_traceback(\n",
            "           ^^^^^^^^^^^^^^^^^^^^^^^^^^^^^^^^^\n",
            "  File \"/home/tengu/miniconda3/envs/ml/lib/python3.11/site-packages/IPython/core/ultratb.py\", line 1326, in structured_traceback\n",
            "    return VerboseTB.structured_traceback(\n",
            "           ^^^^^^^^^^^^^^^^^^^^^^^^^^^^^^^\n",
            "  File \"/home/tengu/miniconda3/envs/ml/lib/python3.11/site-packages/IPython/core/ultratb.py\", line 1173, in structured_traceback\n",
            "    formatted_exception = self.format_exception_as_a_whole(etype, evalue, etb, number_of_lines_of_context,\n",
            "                          ^^^^^^^^^^^^^^^^^^^^^^^^^^^^^^^^^^^^^^^^^^^^^^^^^^^^^^^^^^^^^^^^^^^^^^^^^^^^^^^^\n",
            "  File \"/home/tengu/miniconda3/envs/ml/lib/python3.11/site-packages/IPython/core/ultratb.py\", line 1088, in format_exception_as_a_whole\n",
            "    frames.append(self.format_record(record))\n",
            "                  ^^^^^^^^^^^^^^^^^^^^^^^^^^\n",
            "  File \"/home/tengu/miniconda3/envs/ml/lib/python3.11/site-packages/IPython/core/ultratb.py\", line 970, in format_record\n",
            "    frame_info.lines, Colors, self.has_colors, lvals\n",
            "    ^^^^^^^^^^^^^^^^\n",
            "  File \"/home/tengu/miniconda3/envs/ml/lib/python3.11/site-packages/IPython/core/ultratb.py\", line 792, in lines\n",
            "    return self._sd.lines\n",
            "           ^^^^^^^^^^^^^^\n",
            "  File \"/home/tengu/miniconda3/envs/ml/lib/python3.11/site-packages/stack_data/utils.py\", line 144, in cached_property_wrapper\n",
            "    value = obj.__dict__[self.func.__name__] = self.func(obj)\n",
            "                                               ^^^^^^^^^^^^^^\n",
            "  File \"/home/tengu/miniconda3/envs/ml/lib/python3.11/site-packages/stack_data/core.py\", line 734, in lines\n",
            "    pieces = self.included_pieces\n",
            "             ^^^^^^^^^^^^^^^^^^^^\n",
            "  File \"/home/tengu/miniconda3/envs/ml/lib/python3.11/site-packages/stack_data/utils.py\", line 144, in cached_property_wrapper\n",
            "    value = obj.__dict__[self.func.__name__] = self.func(obj)\n",
            "                                               ^^^^^^^^^^^^^^\n",
            "  File \"/home/tengu/miniconda3/envs/ml/lib/python3.11/site-packages/stack_data/core.py\", line 681, in included_pieces\n",
            "    pos = scope_pieces.index(self.executing_piece)\n",
            "                             ^^^^^^^^^^^^^^^^^^^^\n",
            "  File \"/home/tengu/miniconda3/envs/ml/lib/python3.11/site-packages/stack_data/utils.py\", line 144, in cached_property_wrapper\n",
            "    value = obj.__dict__[self.func.__name__] = self.func(obj)\n",
            "                                               ^^^^^^^^^^^^^^\n",
            "  File \"/home/tengu/miniconda3/envs/ml/lib/python3.11/site-packages/stack_data/core.py\", line 660, in executing_piece\n",
            "    return only(\n",
            "           ^^^^^\n",
            "  File \"/home/tengu/miniconda3/envs/ml/lib/python3.11/site-packages/executing/executing.py\", line 116, in only\n",
            "    raise NotOneValueFound('Expected one value, found 0')\n",
            "executing.executing.NotOneValueFound: Expected one value, found 0\n"
          ]
        },
        {
          "data": {
            "text/plain": []
          },
          "execution_count": 112,
          "metadata": {},
          "output_type": "execute_result"
        }
      ],
      "source": [
        "#нихера не работает, нужно обозревать каждый кластер вручную\n",
        "\n",
        "from ydata_profiling import ProfileReport\n",
        "\n",
        "ProfileReport(df_analysis[df.dbscan_labels == 0].drop(columns=['dbscan_labels'])) # фильтруем по кластерам из uniq_labels, получаем красивый результат :)"
      ]
    },
    {
      "cell_type": "code",
      "execution_count": null,
      "metadata": {
        "id": "81LAXfuhlPcY",
        "outputId": "02f8e9f1-3409-489a-bcc9-5745cd0b8e7e"
      },
      "outputs": [
        {
          "data": {
            "text/plain": [
              "0       0\n",
              "1      -1\n",
              "2      -1\n",
              "3       0\n",
              "4       0\n",
              "       ..\n",
              "3750   -1\n",
              "3751    1\n",
              "3752   -1\n",
              "3753    7\n",
              "3754    0\n",
              "Name: dbscan_labels, Length: 3755, dtype: int64"
            ]
          },
          "execution_count": 113,
          "metadata": {},
          "output_type": "execute_result"
        }
      ],
      "source": [
        "df.dbscan_labels"
      ]
    }
  ],
  "metadata": {
    "colab": {
      "provenance": [],
      "include_colab_link": true
    },
    "kernelspec": {
      "display_name": "Python 3 (ipykernel)",
      "language": "python",
      "name": "python3"
    },
    "language_info": {
      "codemirror_mode": {
        "name": "ipython",
        "version": 3
      },
      "file_extension": ".py",
      "mimetype": "text/x-python",
      "name": "python",
      "nbconvert_exporter": "python",
      "pygments_lexer": "ipython3",
      "version": "3.11.2"
    }
  },
  "nbformat": 4,
  "nbformat_minor": 0
}