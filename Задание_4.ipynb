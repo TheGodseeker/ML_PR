{
  "nbformat": 4,
  "nbformat_minor": 0,
  "metadata": {
    "colab": {
      "provenance": [],
      "include_colab_link": true
    },
    "kernelspec": {
      "name": "python3",
      "display_name": "Python 3"
    },
    "language_info": {
      "name": "python"
    }
  },
  "cells": [
    {
      "cell_type": "markdown",
      "metadata": {
        "id": "view-in-github",
        "colab_type": "text"
      },
      "source": [
        "<a href=\"https://colab.research.google.com/github/TheGodseeker/ML_PR/blob/main/%D0%97%D0%B0%D0%B4%D0%B0%D0%BD%D0%B8%D0%B5_4.ipynb\" target=\"_parent\"><img src=\"https://colab.research.google.com/assets/colab-badge.svg\" alt=\"Open In Colab\"/></a>"
      ]
    },
    {
      "cell_type": "markdown",
      "source": [
        "#Методы кластеризации и оценка качества кластеризации"
      ],
      "metadata": {
        "id": "R9Z5OOJV6d0w"
      }
    },
    {
      "cell_type": "markdown",
      "source": [
        "Загрузите набор данных из файла cluster datasets в соответствии с вашим вариантом (если считаете, что набор данных не представляет необходимой информации или сложен для интерперетации или, то можно выбрать другой - но **необходимо предварительное согласование**)."
      ],
      "metadata": {
        "id": "cii8v-1l6fyV"
      }
    },
    {
      "cell_type": "code",
      "execution_count": 33,
      "metadata": {
        "id": "T1dV5-wj6zEu",
        "outputId": "92958cb5-3e92-4200-be6e-4c8f9dc8ef69",
        "colab": {
          "base_uri": "https://localhost:8080/"
        }
      },
      "outputs": [
        {
          "output_type": "execute_result",
          "data": {
            "text/plain": [
              "Index(['anime_id', 'name', 'genre', 'type', 'episodes', 'rating', 'members'], dtype='object')"
            ]
          },
          "metadata": {},
          "execution_count": 33
        }
      ],
      "source": [
        "import numpy as np\n",
        "import pandas as pd\n",
        "import matplotlib.pyplot as plt\n",
        "from sklearn.cluster import KMeans\n",
        "\n",
        "from statistics import median, mean, stdev\n",
        "from math import erfc\n",
        "from sklearn.cluster import DBSCAN\n",
        "\n",
        "df = pd.read_csv(\"/content/anime.csv\")\n",
        "df.columns"
      ]
    },
    {
      "cell_type": "markdown",
      "source": [
        "Используйте представленные в практике методы кластеризации (помните, что кластеры строятся по классам).\n",
        "\n",
        "Несколько правил перед выполнением задания:\n",
        "0. Внимательно изучить практику 4!\n",
        "1. Служебные комментарии читать внимательно и не удалять\n",
        "2. Выполнить до 10-11-2023 (но не затягивать, таск не простой!)\n",
        "\n",
        "\n",
        "P.S. Мгномерные данные - данные, в которых количество колонок > 3\n",
        "\n",
        "P.S.S. Служебные комментарии - ячейки с описанием задачи в \"\"\" task description \"\"\"\n",
        "\n"
      ],
      "metadata": {
        "id": "0RiXq6go9DFf"
      }
    },
    {
      "cell_type": "code",
      "source": [
        "\"\"\"\n",
        "Предварительно - оптимизируйте ваш набор данных.\n",
        "1. Удалить лишние колонки (порядковые признаки, с множеством пропусков, с кучей выбросов, ....)\n",
        "2. Обработайте выбросы и пропуски (Для удобства - ваш коллега сделал библиотеку в pypi для анализа выбросов - подробности уточняйте в группе)\n",
        "3. Скопируйте df в df_cluster # df_cluster = df.copy()\n",
        "далее вы работаете с ним\n",
        "4. Выполните масштабирование числовых признаков StandatdScaler || MinMaxScaler, в df_cluser замените числовые признаки на отмасштабированные\n",
        "5. Для кагегориальных значений используйте LabelEncoder - https://scikit-learn.org/stable/modules/generated/sklearn.preprocessing.LabelEncoder.html. В df_cluster замените на encoded признаки\n",
        "\"\"\""
      ],
      "metadata": {
        "id": "l9GYic1SCFV6"
      },
      "execution_count": null,
      "outputs": []
    },
    {
      "cell_type": "code",
      "source": [
        "\n",
        "#Класс для чистки\n",
        "class Burst:\n",
        "  def __init__(self, df):\n",
        "    self.df = df\n",
        "\n",
        "  #Выбросы по средней\n",
        "  def bursts_by_mean(self, column_name):\n",
        "    mean_data = mean(self.df[column_name])\n",
        "    maximum = mean_data * 2\n",
        "    result = []\n",
        "    col_series = self.df[column_name] # [(index, value), (index, value)]\n",
        "    cur_series_size = 0\n",
        "\n",
        "    for index, value in col_series.items():\n",
        "      if abs(value) - mean_data > maximum:\n",
        "        result.append(index)\n",
        "\n",
        "    return result\n",
        "\n",
        "  #Выбросы по критерию Шовене\n",
        "  def burst_by_shovene(self, column_name):\n",
        "    col_series = self.df[column_name]\n",
        "    cur_series_size = 0\n",
        "    result = []\n",
        "    my_mean = mean(self.df[column_name])\n",
        "    my_stdev = stdev(self.df[column_name])\n",
        "\n",
        "    for index, value in col_series.items():\n",
        "      if (my_stdev > 0) and erfc(abs(value-my_mean)/my_stdev) < 1 / (2*col_series.size):\n",
        "          result.append(index)\n",
        "\n",
        "    return result\n",
        "  #Выбросы по квартилям\n",
        "  def burst_by_quart(self, column_name):\n",
        "    col_series = self.df[column_name]\n",
        "    cur_series_size = 0\n",
        "    result = []\n",
        "    qs = col_series.quantile([0.25,0.5,0.75])\n",
        "\n",
        "    for index, value in col_series.items():\n",
        "      if (value > qs[0.75]) or (value < qs[0.25]):\n",
        "        result.append(index)\n",
        "\n",
        "    return result\n",
        "\n",
        "  #Выбросы по двум переменным #нужно оганизовать поиск по нескольким СТОЛБЦАМ\n",
        "  def burst_by_num(self, fst, scd):\n",
        "    trg = self.df.loc[:, [fst, scd]].values\n",
        "    # x = self.df.loc[fst]\n",
        "    # y = self.df.loc[scd]\n",
        "\n",
        "    dbscan = DBSCAN(eps = 8, min_samples = 4).fit(trg) # fitting the model\n",
        "    labels = dbscan.labels_ # getting the labels\n",
        "\n",
        "    # plt.scatter(x[:, 0], x[:,1], c = labels, cmap= \"plasma\") # plotting the clusters\n",
        "    # plt.xlabel(fst) # X-axis label\n",
        "    # plt.ylabel(scd) # Y-axis label\n",
        "    # plt.show()\n",
        ""
      ],
      "metadata": {
        "id": "kU-u5CltPbJ-"
      },
      "execution_count": 3,
      "outputs": []
    },
    {
      "cell_type": "code",
      "source": [
        "#Убираем лишние столбцы\n",
        "df = df.drop(\"anime_id\", axis=1)\n",
        "df = df.drop(\"episodes\", axis=1)\n",
        "\n",
        "for i in df.columns:\n",
        "  if df[i].isnull().sum() > (df.size / 3):\n",
        "    df = df.drop(i, axis=1)\n",
        "\n",
        "# Выдает ошибку `'str' object has no attribute 'numerator'`\n",
        "# sel_col = ['episodes', 'rating', 'members']\n",
        "# burster = Burst(df)\n",
        "# for i in df.columns:\n",
        "#   if i in df.columns:\n",
        "#     burst_count = len(burster.bursts_by_mean(i))\n",
        "#     if burst_count > (df.size / 3):\n",
        "#       df = df.drop(i, axis=1)"
      ],
      "metadata": {
        "id": "emwADdn1RhuN"
      },
      "execution_count": 34,
      "outputs": []
    },
    {
      "cell_type": "code",
      "source": [
        "#Удаляем пустоты и выбросы\n",
        "df.dropna()\n",
        "\n",
        "sel_col = [ 'rating', 'members']\n",
        "burster = Burst(df)\n",
        "for i in sel_col:\n",
        "  if i in df.columns:\n",
        "    df.drop(burster.burst_by_quart(i))"
      ],
      "metadata": {
        "id": "qIq0EgRxyUy9"
      },
      "execution_count": 36,
      "outputs": []
    },
    {
      "cell_type": "code",
      "source": [
        "#Копируем данные\n",
        "df_cluster = df.copy()"
      ],
      "metadata": {
        "id": "YaJu8X2e1C8h"
      },
      "execution_count": 37,
      "outputs": []
    },
    {
      "cell_type": "code",
      "source": [
        "#Масштабируем\n",
        "\n",
        "num_features = df_cluster.select_dtypes(include=['float64','int64']).columns\n",
        "\n",
        "from sklearn.preprocessing import StandardScaler\n",
        "# Standard масштабирование\n",
        "scaler_std = StandardScaler()\n",
        "df_cluster[num_features] = scaler_std.fit_transform(df_cluster[num_features])\n",
        "# df_std_scaled.Score.unique() # преобразованные уникальные значения в числовом призанке в диапозоне [0, 1]\n"
      ],
      "metadata": {
        "id": "cGK7A9ht1JsT"
      },
      "execution_count": 48,
      "outputs": []
    },
    {
      "cell_type": "code",
      "source": [
        "#Манипуляции  с кат. значениями\n",
        "\n",
        "from sklearn.preprocessing import LabelEncoder\n",
        "\n",
        "sel_col = [ 'name', 'genre', 'type']\n",
        "\n",
        "le_name = LabelEncoder()\n",
        "le_name.fit(df_cluster[\"name\"].unique())\n",
        "\n",
        "le_genre = LabelEncoder()\n",
        "le_genre.fit(df_cluster[\"genre\"].unique())\n",
        "\n",
        "le_type = LabelEncoder()\n",
        "le_type.fit(df_cluster[\"type\"].unique())\n",
        "\n",
        "for i in sel_col:\n",
        "  match i:\n",
        "    case \"name\":\n",
        "      df_cluster[i] = le_name.transform(df_cluster[i].values)\n",
        "    case \"genre\":\n",
        "      df_cluster[i] = le_genre.transform(df_cluster[i].values)\n",
        "    case \"type\":\n",
        "      df_cluster[i] = le_type.transform(df_cluster[i].values)"
      ],
      "metadata": {
        "id": "6hmHlvKc4wOG",
        "outputId": "90217291-3024-4566-e345-f943c5d9f8d7",
        "colab": {
          "base_uri": "https://localhost:8080/",
          "height": 424
        }
      },
      "execution_count": 52,
      "outputs": [
        {
          "output_type": "execute_result",
          "data": {
            "text/plain": [
              "        name  genre  type    rating    members\n",
              "0       5412   2686     0  2.820773   3.330241\n",
              "1       2848    161     5  2.713634  14.148406\n",
              "2       3346    534     5  2.703894   1.754713\n",
              "3      10259   3240     5  2.625975  11.957666\n",
              "4       3337    534     5  2.616235   2.429742\n",
              "...      ...    ...   ...       ...        ...\n",
              "12289  11144   2903     3 -2.263459  -0.325809\n",
              "12290  11418   2903     3 -2.136840  -0.326320\n",
              "12291  11562   2903     3 -1.552446  -0.325663\n",
              "12292  11563   2903     3 -1.455046  -0.326466\n",
              "12293  11904   2903     0 -0.987531  -0.327068\n",
              "\n",
              "[12294 rows x 5 columns]"
            ],
            "text/html": [
              "\n",
              "  <div id=\"df-36771a8e-7caa-48f5-9c5b-5754f083c823\" class=\"colab-df-container\">\n",
              "    <div>\n",
              "<style scoped>\n",
              "    .dataframe tbody tr th:only-of-type {\n",
              "        vertical-align: middle;\n",
              "    }\n",
              "\n",
              "    .dataframe tbody tr th {\n",
              "        vertical-align: top;\n",
              "    }\n",
              "\n",
              "    .dataframe thead th {\n",
              "        text-align: right;\n",
              "    }\n",
              "</style>\n",
              "<table border=\"1\" class=\"dataframe\">\n",
              "  <thead>\n",
              "    <tr style=\"text-align: right;\">\n",
              "      <th></th>\n",
              "      <th>name</th>\n",
              "      <th>genre</th>\n",
              "      <th>type</th>\n",
              "      <th>rating</th>\n",
              "      <th>members</th>\n",
              "    </tr>\n",
              "  </thead>\n",
              "  <tbody>\n",
              "    <tr>\n",
              "      <th>0</th>\n",
              "      <td>5412</td>\n",
              "      <td>2686</td>\n",
              "      <td>0</td>\n",
              "      <td>2.820773</td>\n",
              "      <td>3.330241</td>\n",
              "    </tr>\n",
              "    <tr>\n",
              "      <th>1</th>\n",
              "      <td>2848</td>\n",
              "      <td>161</td>\n",
              "      <td>5</td>\n",
              "      <td>2.713634</td>\n",
              "      <td>14.148406</td>\n",
              "    </tr>\n",
              "    <tr>\n",
              "      <th>2</th>\n",
              "      <td>3346</td>\n",
              "      <td>534</td>\n",
              "      <td>5</td>\n",
              "      <td>2.703894</td>\n",
              "      <td>1.754713</td>\n",
              "    </tr>\n",
              "    <tr>\n",
              "      <th>3</th>\n",
              "      <td>10259</td>\n",
              "      <td>3240</td>\n",
              "      <td>5</td>\n",
              "      <td>2.625975</td>\n",
              "      <td>11.957666</td>\n",
              "    </tr>\n",
              "    <tr>\n",
              "      <th>4</th>\n",
              "      <td>3337</td>\n",
              "      <td>534</td>\n",
              "      <td>5</td>\n",
              "      <td>2.616235</td>\n",
              "      <td>2.429742</td>\n",
              "    </tr>\n",
              "    <tr>\n",
              "      <th>...</th>\n",
              "      <td>...</td>\n",
              "      <td>...</td>\n",
              "      <td>...</td>\n",
              "      <td>...</td>\n",
              "      <td>...</td>\n",
              "    </tr>\n",
              "    <tr>\n",
              "      <th>12289</th>\n",
              "      <td>11144</td>\n",
              "      <td>2903</td>\n",
              "      <td>3</td>\n",
              "      <td>-2.263459</td>\n",
              "      <td>-0.325809</td>\n",
              "    </tr>\n",
              "    <tr>\n",
              "      <th>12290</th>\n",
              "      <td>11418</td>\n",
              "      <td>2903</td>\n",
              "      <td>3</td>\n",
              "      <td>-2.136840</td>\n",
              "      <td>-0.326320</td>\n",
              "    </tr>\n",
              "    <tr>\n",
              "      <th>12291</th>\n",
              "      <td>11562</td>\n",
              "      <td>2903</td>\n",
              "      <td>3</td>\n",
              "      <td>-1.552446</td>\n",
              "      <td>-0.325663</td>\n",
              "    </tr>\n",
              "    <tr>\n",
              "      <th>12292</th>\n",
              "      <td>11563</td>\n",
              "      <td>2903</td>\n",
              "      <td>3</td>\n",
              "      <td>-1.455046</td>\n",
              "      <td>-0.326466</td>\n",
              "    </tr>\n",
              "    <tr>\n",
              "      <th>12293</th>\n",
              "      <td>11904</td>\n",
              "      <td>2903</td>\n",
              "      <td>0</td>\n",
              "      <td>-0.987531</td>\n",
              "      <td>-0.327068</td>\n",
              "    </tr>\n",
              "  </tbody>\n",
              "</table>\n",
              "<p>12294 rows × 5 columns</p>\n",
              "</div>\n",
              "    <div class=\"colab-df-buttons\">\n",
              "\n",
              "  <div class=\"colab-df-container\">\n",
              "    <button class=\"colab-df-convert\" onclick=\"convertToInteractive('df-36771a8e-7caa-48f5-9c5b-5754f083c823')\"\n",
              "            title=\"Convert this dataframe to an interactive table.\"\n",
              "            style=\"display:none;\">\n",
              "\n",
              "  <svg xmlns=\"http://www.w3.org/2000/svg\" height=\"24px\" viewBox=\"0 -960 960 960\">\n",
              "    <path d=\"M120-120v-720h720v720H120Zm60-500h600v-160H180v160Zm220 220h160v-160H400v160Zm0 220h160v-160H400v160ZM180-400h160v-160H180v160Zm440 0h160v-160H620v160ZM180-180h160v-160H180v160Zm440 0h160v-160H620v160Z\"/>\n",
              "  </svg>\n",
              "    </button>\n",
              "\n",
              "  <style>\n",
              "    .colab-df-container {\n",
              "      display:flex;\n",
              "      gap: 12px;\n",
              "    }\n",
              "\n",
              "    .colab-df-convert {\n",
              "      background-color: #E8F0FE;\n",
              "      border: none;\n",
              "      border-radius: 50%;\n",
              "      cursor: pointer;\n",
              "      display: none;\n",
              "      fill: #1967D2;\n",
              "      height: 32px;\n",
              "      padding: 0 0 0 0;\n",
              "      width: 32px;\n",
              "    }\n",
              "\n",
              "    .colab-df-convert:hover {\n",
              "      background-color: #E2EBFA;\n",
              "      box-shadow: 0px 1px 2px rgba(60, 64, 67, 0.3), 0px 1px 3px 1px rgba(60, 64, 67, 0.15);\n",
              "      fill: #174EA6;\n",
              "    }\n",
              "\n",
              "    .colab-df-buttons div {\n",
              "      margin-bottom: 4px;\n",
              "    }\n",
              "\n",
              "    [theme=dark] .colab-df-convert {\n",
              "      background-color: #3B4455;\n",
              "      fill: #D2E3FC;\n",
              "    }\n",
              "\n",
              "    [theme=dark] .colab-df-convert:hover {\n",
              "      background-color: #434B5C;\n",
              "      box-shadow: 0px 1px 3px 1px rgba(0, 0, 0, 0.15);\n",
              "      filter: drop-shadow(0px 1px 2px rgba(0, 0, 0, 0.3));\n",
              "      fill: #FFFFFF;\n",
              "    }\n",
              "  </style>\n",
              "\n",
              "    <script>\n",
              "      const buttonEl =\n",
              "        document.querySelector('#df-36771a8e-7caa-48f5-9c5b-5754f083c823 button.colab-df-convert');\n",
              "      buttonEl.style.display =\n",
              "        google.colab.kernel.accessAllowed ? 'block' : 'none';\n",
              "\n",
              "      async function convertToInteractive(key) {\n",
              "        const element = document.querySelector('#df-36771a8e-7caa-48f5-9c5b-5754f083c823');\n",
              "        const dataTable =\n",
              "          await google.colab.kernel.invokeFunction('convertToInteractive',\n",
              "                                                    [key], {});\n",
              "        if (!dataTable) return;\n",
              "\n",
              "        const docLinkHtml = 'Like what you see? Visit the ' +\n",
              "          '<a target=\"_blank\" href=https://colab.research.google.com/notebooks/data_table.ipynb>data table notebook</a>'\n",
              "          + ' to learn more about interactive tables.';\n",
              "        element.innerHTML = '';\n",
              "        dataTable['output_type'] = 'display_data';\n",
              "        await google.colab.output.renderOutput(dataTable, element);\n",
              "        const docLink = document.createElement('div');\n",
              "        docLink.innerHTML = docLinkHtml;\n",
              "        element.appendChild(docLink);\n",
              "      }\n",
              "    </script>\n",
              "  </div>\n",
              "\n",
              "\n",
              "<div id=\"df-d176f6a7-53b1-4460-9edd-3ae50c26f6b0\">\n",
              "  <button class=\"colab-df-quickchart\" onclick=\"quickchart('df-d176f6a7-53b1-4460-9edd-3ae50c26f6b0')\"\n",
              "            title=\"Suggest charts\"\n",
              "            style=\"display:none;\">\n",
              "\n",
              "<svg xmlns=\"http://www.w3.org/2000/svg\" height=\"24px\"viewBox=\"0 0 24 24\"\n",
              "     width=\"24px\">\n",
              "    <g>\n",
              "        <path d=\"M19 3H5c-1.1 0-2 .9-2 2v14c0 1.1.9 2 2 2h14c1.1 0 2-.9 2-2V5c0-1.1-.9-2-2-2zM9 17H7v-7h2v7zm4 0h-2V7h2v10zm4 0h-2v-4h2v4z\"/>\n",
              "    </g>\n",
              "</svg>\n",
              "  </button>\n",
              "\n",
              "<style>\n",
              "  .colab-df-quickchart {\n",
              "      --bg-color: #E8F0FE;\n",
              "      --fill-color: #1967D2;\n",
              "      --hover-bg-color: #E2EBFA;\n",
              "      --hover-fill-color: #174EA6;\n",
              "      --disabled-fill-color: #AAA;\n",
              "      --disabled-bg-color: #DDD;\n",
              "  }\n",
              "\n",
              "  [theme=dark] .colab-df-quickchart {\n",
              "      --bg-color: #3B4455;\n",
              "      --fill-color: #D2E3FC;\n",
              "      --hover-bg-color: #434B5C;\n",
              "      --hover-fill-color: #FFFFFF;\n",
              "      --disabled-bg-color: #3B4455;\n",
              "      --disabled-fill-color: #666;\n",
              "  }\n",
              "\n",
              "  .colab-df-quickchart {\n",
              "    background-color: var(--bg-color);\n",
              "    border: none;\n",
              "    border-radius: 50%;\n",
              "    cursor: pointer;\n",
              "    display: none;\n",
              "    fill: var(--fill-color);\n",
              "    height: 32px;\n",
              "    padding: 0;\n",
              "    width: 32px;\n",
              "  }\n",
              "\n",
              "  .colab-df-quickchart:hover {\n",
              "    background-color: var(--hover-bg-color);\n",
              "    box-shadow: 0 1px 2px rgba(60, 64, 67, 0.3), 0 1px 3px 1px rgba(60, 64, 67, 0.15);\n",
              "    fill: var(--button-hover-fill-color);\n",
              "  }\n",
              "\n",
              "  .colab-df-quickchart-complete:disabled,\n",
              "  .colab-df-quickchart-complete:disabled:hover {\n",
              "    background-color: var(--disabled-bg-color);\n",
              "    fill: var(--disabled-fill-color);\n",
              "    box-shadow: none;\n",
              "  }\n",
              "\n",
              "  .colab-df-spinner {\n",
              "    border: 2px solid var(--fill-color);\n",
              "    border-color: transparent;\n",
              "    border-bottom-color: var(--fill-color);\n",
              "    animation:\n",
              "      spin 1s steps(1) infinite;\n",
              "  }\n",
              "\n",
              "  @keyframes spin {\n",
              "    0% {\n",
              "      border-color: transparent;\n",
              "      border-bottom-color: var(--fill-color);\n",
              "      border-left-color: var(--fill-color);\n",
              "    }\n",
              "    20% {\n",
              "      border-color: transparent;\n",
              "      border-left-color: var(--fill-color);\n",
              "      border-top-color: var(--fill-color);\n",
              "    }\n",
              "    30% {\n",
              "      border-color: transparent;\n",
              "      border-left-color: var(--fill-color);\n",
              "      border-top-color: var(--fill-color);\n",
              "      border-right-color: var(--fill-color);\n",
              "    }\n",
              "    40% {\n",
              "      border-color: transparent;\n",
              "      border-right-color: var(--fill-color);\n",
              "      border-top-color: var(--fill-color);\n",
              "    }\n",
              "    60% {\n",
              "      border-color: transparent;\n",
              "      border-right-color: var(--fill-color);\n",
              "    }\n",
              "    80% {\n",
              "      border-color: transparent;\n",
              "      border-right-color: var(--fill-color);\n",
              "      border-bottom-color: var(--fill-color);\n",
              "    }\n",
              "    90% {\n",
              "      border-color: transparent;\n",
              "      border-bottom-color: var(--fill-color);\n",
              "    }\n",
              "  }\n",
              "</style>\n",
              "\n",
              "  <script>\n",
              "    async function quickchart(key) {\n",
              "      const quickchartButtonEl =\n",
              "        document.querySelector('#' + key + ' button');\n",
              "      quickchartButtonEl.disabled = true;  // To prevent multiple clicks.\n",
              "      quickchartButtonEl.classList.add('colab-df-spinner');\n",
              "      try {\n",
              "        const charts = await google.colab.kernel.invokeFunction(\n",
              "            'suggestCharts', [key], {});\n",
              "      } catch (error) {\n",
              "        console.error('Error during call to suggestCharts:', error);\n",
              "      }\n",
              "      quickchartButtonEl.classList.remove('colab-df-spinner');\n",
              "      quickchartButtonEl.classList.add('colab-df-quickchart-complete');\n",
              "    }\n",
              "    (() => {\n",
              "      let quickchartButtonEl =\n",
              "        document.querySelector('#df-d176f6a7-53b1-4460-9edd-3ae50c26f6b0 button');\n",
              "      quickchartButtonEl.style.display =\n",
              "        google.colab.kernel.accessAllowed ? 'block' : 'none';\n",
              "    })();\n",
              "  </script>\n",
              "</div>\n",
              "    </div>\n",
              "  </div>\n"
            ]
          },
          "metadata": {},
          "execution_count": 52
        }
      ]
    },
    {
      "cell_type": "code",
      "source": [
        "\"\"\"\n",
        "Здесь k-means и метрики. Используйте несколько вариантов метрик (из практики), для поиска оптимального числа кластеров.\n",
        "\"\"\""
      ],
      "metadata": {
        "id": "mURhmgww9rrQ"
      },
      "execution_count": null,
      "outputs": []
    },
    {
      "cell_type": "code",
      "source": [
        "# your_code here"
      ],
      "metadata": {
        "id": "-O77d8oxPdKX"
      },
      "execution_count": null,
      "outputs": []
    },
    {
      "cell_type": "code",
      "source": [],
      "metadata": {
        "id": "qbmCD4V4RiKW"
      },
      "execution_count": null,
      "outputs": []
    },
    {
      "cell_type": "code",
      "source": [
        "\"\"\"\n",
        "Здесь визуализация кластеров k-means\n",
        "(Для многомерных данных используйте сжатие методами (на выбор один из) PCA/t-TSNE/umap до 2,3 точек - влияет на вид гарфика, если 2 точки - то двумерный, если три точки - то трехмерный)\n",
        "\"\"\""
      ],
      "metadata": {
        "id": "aIOA-AjO9638"
      },
      "execution_count": null,
      "outputs": []
    },
    {
      "cell_type": "code",
      "source": [
        "# your_code here"
      ],
      "metadata": {
        "id": "1qiEimlgPd1F"
      },
      "execution_count": null,
      "outputs": []
    },
    {
      "cell_type": "code",
      "source": [],
      "metadata": {
        "id": "MkQ6Fr63Rie7"
      },
      "execution_count": null,
      "outputs": []
    },
    {
      "cell_type": "code",
      "source": [
        "\"\"\"\n",
        "Здесь DBSCAN и метрики. Используйте поиск оптимального EPS. Объясните почему?\n",
        "\"\"\""
      ],
      "metadata": {
        "id": "OFn8nTne9wZm"
      },
      "execution_count": null,
      "outputs": []
    },
    {
      "cell_type": "code",
      "source": [
        "# your_code here"
      ],
      "metadata": {
        "id": "TVxZBHVcPeOm"
      },
      "execution_count": null,
      "outputs": []
    },
    {
      "cell_type": "code",
      "source": [],
      "metadata": {
        "id": "YF-BNGiKRi1U"
      },
      "execution_count": null,
      "outputs": []
    },
    {
      "cell_type": "code",
      "source": [
        "\"\"\"\n",
        "Здесь визуализация кластеров DBSCAN\n",
        "(Для многомерных данных используйте сжатие методами (на выбор один из) PCA/t-TSNE/umap до 2,3 точек - влияет на вид гарфика, если 2 точки - то двумерный, если три точки - то трехмерный)\n",
        "\"\"\""
      ],
      "metadata": {
        "id": "rExlsKgQ9_vr"
      },
      "execution_count": null,
      "outputs": []
    },
    {
      "cell_type": "code",
      "source": [
        "# your_code here"
      ],
      "metadata": {
        "id": "XRmrp3QJPetF"
      },
      "execution_count": null,
      "outputs": []
    },
    {
      "cell_type": "code",
      "source": [],
      "metadata": {
        "id": "g_0FI5o6RjK8"
      },
      "execution_count": null,
      "outputs": []
    },
    {
      "cell_type": "code",
      "source": [
        "\"\"\"\n",
        "Здесь иерархическая кластеризация и метрики\n",
        "\"\"\""
      ],
      "metadata": {
        "id": "VOJwk8Pw9zIm"
      },
      "execution_count": null,
      "outputs": []
    },
    {
      "cell_type": "code",
      "source": [
        "# your_code here"
      ],
      "metadata": {
        "id": "41otDBM2PfEP"
      },
      "execution_count": null,
      "outputs": []
    },
    {
      "cell_type": "code",
      "source": [],
      "metadata": {
        "id": "fb30H4awRjfQ"
      },
      "execution_count": null,
      "outputs": []
    },
    {
      "cell_type": "code",
      "source": [
        "\"\"\"\n",
        "Здесь визуализация кластеров иерархической кластеризации\n",
        "(Для многомерных данных используйте сжатие методами (на выбор один из) PCA/t-TSNE/umap до 2,3 точек - влияет на вид гарфика, если 2 точки - то двумерный, если три точки - то трехмерный)\n",
        "\"\"\""
      ],
      "metadata": {
        "id": "Bv7A729L-Csh"
      },
      "execution_count": null,
      "outputs": []
    },
    {
      "cell_type": "code",
      "source": [
        "# your_code here"
      ],
      "metadata": {
        "id": "7475JNZJPfki"
      },
      "execution_count": null,
      "outputs": []
    },
    {
      "cell_type": "code",
      "source": [],
      "metadata": {
        "id": "IpHpWTVWRj-Q"
      },
      "execution_count": null,
      "outputs": []
    },
    {
      "cell_type": "code",
      "source": [
        "!pip install ydata-profiling"
      ],
      "metadata": {
        "id": "yZqfH8KMI0sA"
      },
      "execution_count": null,
      "outputs": []
    },
    {
      "cell_type": "markdown",
      "source": [
        "Выполните профилирование набора данных относительно кластеров, используя оригинальный набор данных.\n",
        "\n",
        "P.S. задание для всех"
      ],
      "metadata": {
        "id": "F6luFBUtI1Xf"
      }
    },
    {
      "cell_type": "code",
      "source": [
        "#\n",
        "#### Приветсвуется ручной анилиз - гарфики, статистика по разным кластерам, как альтернативный путь решения задачи\n",
        "#\n",
        "\n",
        "# 1. в оригинальный набор данных добавьте колонки с кластерами и работаем с ним\n",
        "\n",
        "\"\"\"\n",
        "df['kmeans_cluster'] = kmeans_cluster.labels_\n",
        "df['dbsscan_cluster'] = dbsscan_cluster.labels_\n",
        "...\n",
        "\"\"\"\n",
        "\n",
        "# 2. Выполните фильтрацию относительно каждого кластера и каждого алгоритма (Внимание, кластер -1 не учитываем в DBSSCAN, тк это выбросы. То есть, точки не вошли ни в одни кластер)\n",
        "\"\"\"\n",
        "P.S за пример взять 1 тип кластеров, выполните для всех (если кластеров больше 3, разрешено использовать первые три кластера для анализа)\n",
        "\n",
        "from ydata_profiling import ProfileReport\n",
        "df['dbscan_labels'] = dbscan.labels_\n",
        "\n",
        "uniq_labels = tuple(set(dbscan.labels_))\n",
        "\n",
        "print(uniq_labels)\n",
        "\n",
        "\"\"\"\n",
        "\n",
        "# 3. Выполните профилирование\n",
        "\"\"\"\n",
        "На отдельной ячейке выполните профилирование для каждого кластера и каждого алгоритма\n",
        "\n",
        "from ydata_profiling import ProfileReport\n",
        "\n",
        "ProfileReport(df[df.dbscan_labels == 0]) # фильтруем по кластерам из uniq_labels, получаем красивый результат :)\n",
        "\n",
        "\"\"\"\n",
        "\n",
        "# 4. Проанализируйте результат по кластерам. Какие переменные попали в каждый кластер, их различия (статистические), графики.\n",
        "# Постарайтесь объяснить различия \"фактически\".\n",
        "# Например, видно, что в кластер 1 у пациентов возраст выше в среднем и в медиане, чем в остальных, что может свидетельствоать о влиянии возраста на кластер №()\n",
        "\n"
      ],
      "metadata": {
        "id": "-XEU0mlPLCMP"
      },
      "execution_count": null,
      "outputs": []
    },
    {
      "cell_type": "code",
      "source": [
        "# your_code here"
      ],
      "metadata": {
        "id": "i5qS3TZsPgOK"
      },
      "execution_count": null,
      "outputs": []
    }
  ]
}